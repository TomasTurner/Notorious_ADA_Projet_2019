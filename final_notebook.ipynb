{
 "cells": [
  {
   "cell_type": "markdown",
   "metadata": {},
   "source": [
    "# 1. Introduction\n",
    "Harmful use of alcohol causes more than 5% of the global disease burden. The death of more than [3 million people](https://www.who.int/news-room/detail/21-09-2018-harmful-use-of-alcohol-kills-more-than-3-million-people-each-year--most-of-them-men) a year is caused by the substance. Simultaneously it is source of a [1344 billion dollar industry](https://www.statista.com/statistics/696641/market-value-alcoholic-beverages-worldwide/), and an important cultural factor. This makes it a highly important, and highly complex, matter for regulators which have to take into account many aspects when creating policies.\n",
    "\n",
    "The goal of this notebook is to aggregate different alcohol control policies to understand which are the most common and test the correlation between alcohol consumption and different alcohol control policies\n"
   ]
  },
  {
   "cell_type": "code",
   "execution_count": 440,
   "metadata": {},
   "outputs": [],
   "source": [
    "# import libraries\n",
    "import os\n",
    "import pandas as pd\n",
    "import numpy as np\n",
    "import csv\n",
    "import matplotlib.pyplot as plt\n",
    "from sklearn.preprocessing import MinMaxScaler"
   ]
  },
  {
   "cell_type": "code",
   "execution_count": 441,
   "metadata": {},
   "outputs": [
    {
     "name": "stdout",
     "output_type": "stream",
     "text": [
      "\u001b[0m\u001b[01;34mCountry_religion\u001b[0m/     HFA_426_EN.csv  \u001b[01;32mREADME.md\u001b[0m*\n",
      "\u001b[01;34mdataprocessed\u001b[0m/        \u001b[01;34mOld_code\u001b[0m/       \u001b[01;34mreport\u001b[0m/\n",
      "final_notebook.ipynb  \u001b[01;34mprojectdata\u001b[0m/    \u001b[01;34mWHO_policy_timeline_edited\u001b[0m/\n"
     ]
    }
   ],
   "source": [
    "ls"
   ]
  },
  {
   "cell_type": "code",
   "execution_count": 442,
   "metadata": {},
   "outputs": [],
   "source": [
    "#file_path_definitions\n",
    "Age_limits_CSV_FILE_PATH = 'projectdata/Age_limits.csv'\n",
    "Public_use_CSV_FILE_PATH = 'projectdata/Public_use.csv'\n",
    "Liscence_retail_CSV_FILE_PATH = 'projectdata/Licence_retail.csv'  # bool influence the retail sales first\n",
    "Liscence_production_CSV_FILE_PATH = 'projectdata/Licence_production.csv'\n",
    "Tax_CSV_FILE_PATH = 'projectdata/Tax.csv'   # bool\n",
    "Community_actions_CSV_FILE_PATH = 'projectdata/Community_action.csv'  #  bool\n",
    "Health_warning_CSV_FILE_PATH = 'projectdata/Health_warning.csv'\n",
    "Comsumption_CSV_FILE_PATH = 'projectdata/Consumption.csv'\n",
    "Countries_list_PATH = 'dataprocessed/Country_list_final.csv'"
   ]
  },
  {
   "cell_type": "code",
   "execution_count": 443,
   "metadata": {},
   "outputs": [
    {
     "data": {
      "application/javascript": [
       "IPython.OutputArea.auto_scroll_threshold = 9999;\n"
      ],
      "text/plain": [
       "<IPython.core.display.Javascript object>"
      ]
     },
     "metadata": {},
     "output_type": "display_data"
    }
   ],
   "source": [
    "%%javascript\n",
    "IPython.OutputArea.auto_scroll_threshold = 9999;"
   ]
  },
  {
   "cell_type": "markdown",
   "metadata": {},
   "source": [
    "1. We have divided all the countries in the database into eight parts according to the United Nations geographical division criteria.\n",
    "2. This is because we take into account that countries in the same region have similar political conditions, living habits and cultural background, such as countries in the EU, while countries in different regions are quite different in these aspects.\n",
    "3. Therefore, our subsequent analysis will be based on the results of the following country segmentation."
   ]
  },
  {
   "cell_type": "markdown",
   "metadata": {},
   "source": [
    "## 2 DataSets Overview"
   ]
  },
  {
   "cell_type": "markdown",
   "metadata": {},
   "source": [
    "**DataSet 1. Pure alcohol consumption, litres per capita, age 15+**\n",
    "\n",
    "* Indicator full name: Pure alcohol consumption, litres per capita, age 15+\n",
    "\n",
    "* Unit: litres per capita\n",
    "\n",
    "* Dimensions:\n",
    "\n",
    "* Country (COUNTRY) \n",
    "\n",
    "* Supranational group of countries (COUNTRY_GRP)\n",
    "\n",
    "* Sex (SEX)\n",
    "\n",
    "* Year of measure (YEAR)\n",
    "\n",
    "* Years data is available: 1970—2015"
   ]
  },
  {
   "cell_type": "code",
   "execution_count": 487,
   "metadata": {},
   "outputs": [
    {
     "data": {
      "text/html": [
       "<iframe frameborder=\"0\" class=\"whoWidget\" onload=\"(function (){if(!document.getElementById('ifr')){var s=document.createElement('script');s.type='text/javascript';s.id='ifr';s.src='https://gateway.euro.who.int/Scripts/libs/iframeResizer/iframeResizer.min.js';document.getElementsByTagName('head')[0].appendChild(s);}})();\" src=\"https://gateway.euro.who.int/en/indicators/visualization-embed/?indId=18314&visId=19443\" style=\"width: 100%;\"></iframe>"
      ],
      "text/plain": [
       "<IPython.core.display.HTML object>"
      ]
     },
     "metadata": {},
     "output_type": "display_data"
    }
   ],
   "source": [
    "display(HTML('<iframe frameborder=\"0\" class=\"whoWidget\" onload=\"(function (){if(!document.getElementById(\\'ifr\\')){var s=document.createElement(\\'script\\');s.type=\\'text/javascript\\';s.id=\\'ifr\\';s.src=\\'https://gateway.euro.who.int/Scripts/libs/iframeResizer/iframeResizer.min.js\\';document.getElementsByTagName(\\'head\\')[0].appendChild(s);}})();\" src=\"https://gateway.euro.who.int/en/indicators/visualization-embed/?indId=18314&visId=19443\" style=\"width: 100%;\"></iframe>'))"
   ]
  },
  {
   "cell_type": "markdown",
   "metadata": {},
   "source": [
    "**DataSet 2.Age limits - Alcohol service/sales by country**\n",
    "\n",
    "* Data type: Count\n",
    "* Topic: Risk factors\n",
    "* Rationale: One first needs to be aware of a country's laws and policies regarding alcohol before one can establish whether these influence the level and patterns of alcohol consumption in the population. Thus, the legal status of alcohol production, distribution and consumption is an important indicator.\n",
    "* Definition:The legal age limit for on-premise service of alcoholic beverages is defined as the age at which a person can be served alcoholic beverages on premises in a country, i.e. alcoholic beverages cannot be served to a person under this age. The legal age limit for off-premise sales of alcoholic beverages is defined as the age at which a person can be sold alcoholic beverages off premises in a country, i.e. alcoholic beverages cannot be sold to a person under this age.\n",
    "* Disaggregation: Alcoholic beverage type\n",
    "* Method of estimation: The national authorities of a given country respond to the Global Survey on Alcohol and Health.\n",
    "* Expected frequency of data dissemination:Periodic\n",
    "* Expected frequency of data collection:Periodic\n",
    "\n",
    "Short name: Age limits on-/off-premise sales\n",
    "\n",
    "Short name:Age limits on-/off-premise service\n",
    "\n",
    "Total countries:194"
   ]
  },
  {
   "cell_type": "code",
   "execution_count": 490,
   "metadata": {},
   "outputs": [
    {
     "data": {
      "text/html": [
       "<iframe id='rightframe' name='leftiframe' width=\"70%\" src='http://apps.who.int/gho/data/node.main.A1144'></iframe><br>"
      ],
      "text/plain": [
       "<IPython.core.display.HTML object>"
      ]
     },
     "metadata": {},
     "output_type": "display_data"
    }
   ],
   "source": [
    "display(HTML('<iframe id=\\'rightframe\\' name=\\'leftiframe\\' width=\"70%\" src=\\'http://apps.who.int/gho/data/node.main.A1144\\'></iframe><br>'))"
   ]
  },
  {
   "cell_type": "markdown",
   "metadata": {},
   "source": [
    "**DataSet 3.License requirement for alcohol production and retail sales**\n",
    "\n",
    "* Short name: Licensing\n",
    "* Data type: Categorical\n",
    "* Topic: Risk factors\n",
    "* Rationale: One first needs to be aware of a country's laws and policies regarding alcohol before one can establish whether these influence the level and patterns of alcohol consumption in the population. Thus, the legal status of alcohol production, distribution and consumption is an important indicator.\n",
    "* Definition: Licensing is defined as the partial government control of production, and sale, wholesale and distribution of alcoholic beverages which requires licensing, as well as of import and export.\n",
    "* Disaggregation: Alcoholic beverage type\n",
    "* Method of estimation: The national authorities of a given country respond to the Global Survey on Alcohol and Health.\n",
    "* Expected frequency of data dissemination:Periodic\n",
    "* Expected frequency of data collection:Periodic\n",
    "\n",
    "Retail sales by country"
   ]
  },
  {
   "cell_type": "code",
   "execution_count": 492,
   "metadata": {},
   "outputs": [
    {
     "data": {
      "text/html": [
       "<iframe id='rightframe' name='leftiframe' width=\"70%\" src='http://apps.who.int/gho/data/node.main.A1179'></iframe><br>"
      ],
      "text/plain": [
       "<IPython.core.display.HTML object>"
      ]
     },
     "metadata": {},
     "output_type": "display_data"
    }
   ],
   "source": [
    "display(HTML('<iframe id=\\'rightframe\\' name=\\'leftiframe\\' width=\"70%\" src=\\'http://apps.who.int/gho/data/node.main.A1179\\'></iframe><br>'))"
   ]
  },
  {
   "cell_type": "code",
   "execution_count": 493,
   "metadata": {},
   "outputs": [
    {
     "data": {
      "text/html": [
       "<iframe id='rightframe' name='leftiframe' width=\"70%\" src='http://apps.who.int/gho/data/node.main.A1178'></iframe><br>"
      ],
      "text/plain": [
       "<IPython.core.display.HTML object>"
      ]
     },
     "metadata": {},
     "output_type": "display_data"
    }
   ],
   "source": [
    "display(HTML('<iframe id=\\'rightframe\\' name=\\'leftiframe\\' width=\"70%\" src=\\'http://apps.who.int/gho/data/node.main.A1178\\'></iframe><br>'))"
   ]
  },
  {
   "cell_type": "markdown",
   "metadata": {},
   "source": [
    "# 2. Preprocessing\n",
    "## 2.1 Tools to preprocess"
   ]
  },
  {
   "cell_type": "code",
   "execution_count": 444,
   "metadata": {},
   "outputs": [],
   "source": [
    "def process_text(origin_text):\n",
    "    new_text = origin_text.capitalize()\n",
    "    new_text = ''.join(new_text.split('-'))\n",
    "    new_text = ''.join(new_text.split(' '))\n",
    "    return new_text"
   ]
  },
  {
   "cell_type": "code",
   "execution_count": 445,
   "metadata": {},
   "outputs": [],
   "source": [
    "def process_country_name(Filename, newFile_path, column):\n",
    "    df = pd.read_csv(Filename, header=None, sep=',')\n",
    "    print(df.shape)\n",
    "    for row in df.iterrows():\n",
    "        country_name = row[1][column]\n",
    "        row[1][column]=process_text(country_name)\n",
    "    df.to_csv(newFile_path, header=None, index=False, sep=',')"
   ]
  },
  {
   "cell_type": "code",
   "execution_count": 446,
   "metadata": {},
   "outputs": [],
   "source": [
    "def dict_country_code(inputcountry):\n",
    "    with open(Countries_list_PATH,'r',encoding=\"utf-8\") as f:\n",
    "        reader = csv.reader(f)\n",
    "        fieldnames = next(reader) #get first row，as key for the dictionary get from generator next\n",
    "#         print(\"fieldnames\", fieldnames)\n",
    "        csv_reader = csv.DictReader(f,fieldnames=fieldnames) #self._fieldnames = fieldnames   # list of keys for the dict 以list的形式存放键名\n",
    "        for row in csv_reader:\n",
    "#             print(row)\n",
    "            d = {}\n",
    "            for k,v in row.items():\n",
    "                d[k]=v\n",
    "            if d['Country']==inputcountry:\n",
    "                outputcode = d['Code']\n",
    "#                 print(\"Succeed! Replaced with\", outputcode)\n",
    "                return(outputcode)\n",
    "#         print(\"Error! Cannot find country\", inputcountry)\n",
    "        return False"
   ]
  },
  {
   "cell_type": "code",
   "execution_count": 447,
   "metadata": {},
   "outputs": [],
   "source": [
    "def dict_country_region(inputcountry):\n",
    "    with open(Countries_list_PATH,'r',encoding=\"utf-8\") as f:\n",
    "        reader = csv.reader(f)\n",
    "        fieldnames = next(reader) #get first row，as key for the dictionary get from generator next\n",
    "#         print(\"fieldnames\", fieldnames)\n",
    "        csv_reader = csv.DictReader(f,fieldnames=fieldnames) #self._fieldnames = fieldnames   # list of keys for the dict 以list的形式存放键名\n",
    "        for row in csv_reader:\n",
    "#             print(row)\n",
    "            d = {}\n",
    "            for k,v in row.items():\n",
    "                d[k]=v\n",
    "            if d['Country']==inputcountry:\n",
    "                outputregion = d['Region']\n",
    "#                 print(\"Succeed! Replaced with\", outputcode)\n",
    "                return(outputregion)\n",
    "#         print(\"Error! Cannot find country\", inputcountry)\n",
    "        return False"
   ]
  },
  {
   "cell_type": "code",
   "execution_count": 448,
   "metadata": {},
   "outputs": [],
   "source": [
    "def dict_country_religion(inputcountry):\n",
    "    with open(Countries_list_PATH,'r',encoding=\"utf-8\") as f:\n",
    "        reader = csv.reader(f)\n",
    "        fieldnames = next(reader) #get first row，as key for the dictionary get from generator next\n",
    "#         print(\"fieldnames\", fieldnames)\n",
    "        csv_reader = csv.DictReader(f,fieldnames=fieldnames) #self._fieldnames = fieldnames   # list of keys for the dict 以list的形式存放键名\n",
    "        for row in csv_reader:\n",
    "#             print(row)\n",
    "            d = {}\n",
    "            for k,v in row.items():\n",
    "                d[k]=v\n",
    "            if d['Country']==inputcountry:\n",
    "                outputreligion = d['Religion']\n",
    "#                 print(\"Succeed! Replaced with\", outputcode)\n",
    "                return(outputreligion)\n",
    "#         print(\"Error! Cannot find country\", inputcountry)\n",
    "        return False"
   ]
  },
  {
   "cell_type": "code",
   "execution_count": 449,
   "metadata": {},
   "outputs": [
    {
     "name": "stdout",
     "output_type": "stream",
     "text": [
      "Western European and Others Group\n"
     ]
    }
   ],
   "source": [
    "# test function dict_country \n",
    "print(dict_country_region('Switzerland'))"
   ]
  },
  {
   "cell_type": "code",
   "execution_count": 450,
   "metadata": {
    "scrolled": true
   },
   "outputs": [],
   "source": [
    "# # preprocess every file into country code\n",
    "# def add_country_code(Filename, newFile_path):\n",
    "#     df = pd.read_csv(Filename, header=None, sep=',')\n",
    "#     df['CountryCode']='none'\n",
    "#     # print(df.columns)\n",
    "#     print(df.shape)\n",
    "#     success_count = 0\n",
    "#     for row in df.iterrows():\n",
    "#         country_name = row[1][0]\n",
    "#     #     print(\"Country name:\", country_name)\n",
    "#         outputcode = dict_country_code(country_name)\n",
    "#         if(outputcode!=False):\n",
    "#             row[1]['CountryCode']=outputcode\n",
    "#             success_count = success_count + 1\n",
    "#     print(\"Successfully Converted:\", success_count)\n",
    "#     # print(df.head())\n",
    "#     df.to_csv(newFile_path,index=False,sep=',')"
   ]
  },
  {
   "cell_type": "code",
   "execution_count": 451,
   "metadata": {},
   "outputs": [],
   "source": [
    "# country_to_code(Age_limits_CSV_FILE_PATH, \"./dataprocessed/Age_limits_processed.csv\")\n",
    "# country_to_code(Public_use_CSV_FILE_PATH, \"./dataprocessed/Public_use_processed.csv\")"
   ]
  },
  {
   "cell_type": "code",
   "execution_count": 452,
   "metadata": {},
   "outputs": [],
   "source": [
    "# preprocess add region and religion to each row\n",
    "def add_code_region_religion(Filename, newFile_path):\n",
    "    df = pd.read_csv(Filename, header=None, sep=',')\n",
    "    df['CountryCode']='none'\n",
    "    df['Region']='none'\n",
    "    df['Religion']='none'\n",
    "    print(df.shape)\n",
    "    success_count = 0\n",
    "    for row in df.iterrows():\n",
    "        country_name = row[1][0]\n",
    "        country_name = process_text(country_name)\n",
    "        outputcode = dict_country_code(country_name)\n",
    "        outputregion = dict_country_region(country_name)\n",
    "        outputreligion = dict_country_religion(country_name)\n",
    "        if outputregion!=False and outputreligion!=False:\n",
    "            row[1][0]=country_name\n",
    "            row[1]['CountryCode']=outputcode\n",
    "            row[1]['Region']=outputregion\n",
    "            row[1]['Religion']=outputreligion\n",
    "            success_count = success_count + 1\n",
    "    print(\"Successfully Converted:\", success_count)\n",
    "    df.to_csv(newFile_path,index=False,sep=',')"
   ]
  },
  {
   "cell_type": "code",
   "execution_count": 453,
   "metadata": {},
   "outputs": [],
   "source": [
    "'''\n",
    "use this only when column name is split between the 2 forst rows\n",
    "merges the two first rows of the csv table into new column name\n",
    "'''\n",
    "def merge_col_names(input_path, output_path, row = [0,1]): # column name are in row 1 and 2\n",
    "    df = pd.read_csv(input_path, header=None, sep=',')\n",
    "    new_col_names=[]\n",
    "    for column_name, _ in df.iteritems():\n",
    "        # checks if the names are different\n",
    "        if not df.loc[row[0]][column_name] == df.loc[row[1]][column_name]:\n",
    "            new_col_names.append(df.loc[row[0]][column_name] + ',' + df.loc[row[1]][column_name])\n",
    "        else:\n",
    "            new_col_names.append(df.loc[row[0]][column_name])\n",
    "    df.columns = new_col_names\n",
    "    df=df.drop(labels=0, axis='rows')\n",
    "    df=df.drop(labels=1, axis='rows')\n",
    "    df.to_csv(output_path, sep=',', header=True, index=False, mode='w')\n",
    "    \n",
    "\n",
    "# scales the dataframe to the range\n",
    "def rescale_data(df, feature_range=(0,1)):\n",
    "    mm_scaler = MinMaxScaler(feature_range=feature_range)\n",
    "    df_mm = mm_scaler.fit_transform(df)\n",
    "    return pd.DataFrame(df_mm)"
   ]
  },
  {
   "cell_type": "markdown",
   "metadata": {},
   "source": [
    "## 2.2 Data preprocess"
   ]
  },
  {
   "cell_type": "code",
   "execution_count": 454,
   "metadata": {},
   "outputs": [
    {
     "name": "stdout",
     "output_type": "stream",
     "text": [
      "(177, 5)\n"
     ]
    }
   ],
   "source": [
    "process_country_name(Countries_list_PATH, \"./dataprocessed/Country_list_final.csv\", 2)"
   ]
  },
  {
   "cell_type": "code",
   "execution_count": 455,
   "metadata": {},
   "outputs": [
    {
     "name": "stdout",
     "output_type": "stream",
     "text": [
      "(196, 8)\n"
     ]
    }
   ],
   "source": [
    "process_country_name(Age_limits_CSV_FILE_PATH, \"./dataprocessed/Age_limits_processed.csv\", 0)"
   ]
  },
  {
   "cell_type": "code",
   "execution_count": 456,
   "metadata": {},
   "outputs": [
    {
     "name": "stdout",
     "output_type": "stream",
     "text": [
      "(196, 11)\n",
      "Successfully Converted: 162\n"
     ]
    }
   ],
   "source": [
    "add_code_region_religion(\"./dataprocessed/Age_limits_processed.csv\", \"./dataprocessed/Age_limits_processed.csv\")"
   ]
  },
  {
   "cell_type": "code",
   "execution_count": 457,
   "metadata": {},
   "outputs": [],
   "source": [
    "def text_to_bool():\n",
    "    df = pd.read_csv(Filename, header=None, sep=',')"
   ]
  },
  {
   "cell_type": "code",
   "execution_count": 458,
   "metadata": {},
   "outputs": [
    {
     "name": "stdout",
     "output_type": "stream",
     "text": [
      "(196, 11)\n",
      "Successfully Converted: 162\n"
     ]
    }
   ],
   "source": [
    "add_code_region_religion(Age_limits_CSV_FILE_PATH, \"./dataprocessed/Age_limits_processed.csv\")"
   ]
  },
  {
   "cell_type": "code",
   "execution_count": 459,
   "metadata": {},
   "outputs": [
    {
     "data": {
      "text/html": [
       "<div>\n",
       "<style scoped>\n",
       "    .dataframe tbody tr th:only-of-type {\n",
       "        vertical-align: middle;\n",
       "    }\n",
       "\n",
       "    .dataframe tbody tr th {\n",
       "        vertical-align: top;\n",
       "    }\n",
       "\n",
       "    .dataframe thead th {\n",
       "        text-align: right;\n",
       "    }\n",
       "</style>\n",
       "<table border=\"1\" class=\"dataframe\">\n",
       "  <thead>\n",
       "    <tr style=\"text-align: right;\">\n",
       "      <th></th>\n",
       "      <th>Country</th>\n",
       "      <th>Year</th>\n",
       "      <th>Age limits off-premise sales, Beer</th>\n",
       "      <th>Age limits off-premise sales, Wine</th>\n",
       "      <th>Age limits off-premise sales, Spirits</th>\n",
       "      <th>Age limits on-premise service, Beer</th>\n",
       "      <th>Age limits on-premise service, Wine</th>\n",
       "      <th>Age limits on-premise service, Spirits</th>\n",
       "    </tr>\n",
       "  </thead>\n",
       "  <tbody>\n",
       "    <tr>\n",
       "      <td>0</td>\n",
       "      <td>Afghanistan</td>\n",
       "      <td>2016</td>\n",
       "      <td>1.00</td>\n",
       "      <td>1.00</td>\n",
       "      <td>1.00</td>\n",
       "      <td>1.00</td>\n",
       "      <td>1.00</td>\n",
       "      <td>1.00</td>\n",
       "    </tr>\n",
       "    <tr>\n",
       "      <td>1</td>\n",
       "      <td>Albania</td>\n",
       "      <td>2016</td>\n",
       "      <td>0.36</td>\n",
       "      <td>0.36</td>\n",
       "      <td>0.36</td>\n",
       "      <td>0.36</td>\n",
       "      <td>0.36</td>\n",
       "      <td>0.36</td>\n",
       "    </tr>\n",
       "    <tr>\n",
       "      <td>2</td>\n",
       "      <td>Algeria</td>\n",
       "      <td>2016</td>\n",
       "      <td>0.36</td>\n",
       "      <td>0.36</td>\n",
       "      <td>0.36</td>\n",
       "      <td>0.36</td>\n",
       "      <td>0.36</td>\n",
       "      <td>0.36</td>\n",
       "    </tr>\n",
       "    <tr>\n",
       "      <td>3</td>\n",
       "      <td>Andorra</td>\n",
       "      <td>2016</td>\n",
       "      <td>0.36</td>\n",
       "      <td>0.36</td>\n",
       "      <td>0.36</td>\n",
       "      <td>0.36</td>\n",
       "      <td>0.36</td>\n",
       "      <td>0.36</td>\n",
       "    </tr>\n",
       "    <tr>\n",
       "      <td>4</td>\n",
       "      <td>Angola</td>\n",
       "      <td>2016</td>\n",
       "      <td>0.36</td>\n",
       "      <td>0.36</td>\n",
       "      <td>0.36</td>\n",
       "      <td>0.36</td>\n",
       "      <td>0.36</td>\n",
       "      <td>0.36</td>\n",
       "    </tr>\n",
       "  </tbody>\n",
       "</table>\n",
       "</div>"
      ],
      "text/plain": [
       "       Country  Year  Age limits off-premise sales, Beer  \\\n",
       "0  Afghanistan  2016                                1.00   \n",
       "1      Albania  2016                                0.36   \n",
       "2      Algeria  2016                                0.36   \n",
       "3      Andorra  2016                                0.36   \n",
       "4       Angola  2016                                0.36   \n",
       "\n",
       "   Age limits off-premise sales, Wine  Age limits off-premise sales, Spirits  \\\n",
       "0                                1.00                                   1.00   \n",
       "1                                0.36                                   0.36   \n",
       "2                                0.36                                   0.36   \n",
       "3                                0.36                                   0.36   \n",
       "4                                0.36                                   0.36   \n",
       "\n",
       "   Age limits on-premise service, Beer  Age limits on-premise service, Wine  \\\n",
       "0                                 1.00                                 1.00   \n",
       "1                                 0.36                                 0.36   \n",
       "2                                 0.36                                 0.36   \n",
       "3                                 0.36                                 0.36   \n",
       "4                                 0.36                                 0.36   \n",
       "\n",
       "   Age limits on-premise service, Spirits  \n",
       "0                                    1.00  \n",
       "1                                    0.36  \n",
       "2                                    0.36  \n",
       "3                                    0.36  \n",
       "4                                    0.36  "
      ]
     },
     "execution_count": 459,
     "metadata": {},
     "output_type": "execute_result"
    }
   ],
   "source": [
    "## PREPROCESSING AGE LIMITS\n",
    "\n",
    "## output\n",
    "# dataframe 1: age_limit, contains the whole data\n",
    "# dataframe 2: age_limit_num, after dropping missing data\n",
    "\n",
    "## list of heuristics\n",
    "HEURISTIC_TOTAL_BAN = 50\n",
    "\n",
    "# merges column name\n",
    "merge_col_names(Age_limits_CSV_FILE_PATH, 'dataprocessed/Age_limits_processed.csv')\n",
    "\n",
    "# reads\n",
    "age_limit = pd.read_csv('dataprocessed/Age_limits_processed.csv')\n",
    "\n",
    "# creates short-cut for column with data specific to age limit\n",
    "columns_data = list(age_limit.columns)[2:] # without county and year\n",
    "\n",
    "# lists unique values in the data frame\n",
    "val1 = pd.Series()\n",
    "for column in age_limit.columns[2:]:\n",
    "    val2 = pd.Series(age_limit[column].unique())\n",
    "    val1 = val1.append(val2)\n",
    "value_span = list(val1.unique())\n",
    "# print('List of unique values in this data frame: ', value_span)\n",
    "\n",
    "# sanitizes age_limit\n",
    "age_limit = age_limit.replace({'total ban': 'Total ban', \n",
    "                               'subnational': 'Subnational'})\n",
    "\n",
    "# puts all values to numbers or NaN\n",
    "age_limit_num = age_limit.replace({'Total ban': HEURISTIC_TOTAL_BAN,\n",
    "                                   'None':0,\n",
    "                                   'Subnational': np.nan,\n",
    "                                   'No data': np.nan})\n",
    "\n",
    "# drops rows if it contains NaN\n",
    "# age_limit_num = age_limit_num.dropna(how='any')\n",
    "# print('Shape after removing non-numeric values', age_limit_num.shape)\n",
    "# age_limit_num = age_limit_num.reset_index(drop=True)\n",
    "\n",
    "# sets the dataframe specific data to float\n",
    "age_limit_num[columns_data] = age_limit_num[columns_data].astype(dtype=float)\n",
    "\n",
    "# scales the dataframe specific data  between 0 and 1\n",
    "age_limit_num[columns_data] = rescale_data(age_limit_num[columns_data])\n",
    "\n",
    "# to csv\n",
    "age_limit_num.to_csv('dataprocessed/Age_limits_processed.csv', \n",
    "                     sep=',', \n",
    "                     header=True,\n",
    "                     index=False,\n",
    "                     mode='w')\n",
    "\n",
    "age_limit_num.head()"
   ]
  },
  {
   "cell_type": "markdown",
   "metadata": {},
   "source": [
    "## 2.3 Data agglomeration"
   ]
  },
  {
   "cell_type": "code",
   "execution_count": 460,
   "metadata": {},
   "outputs": [
    {
     "name": "stdout",
     "output_type": "stream",
     "text": [
      "Age_limits_processed.csv          \u001b[0m\u001b[01;32mLiscence_production_processed.csv\u001b[0m*\n",
      "\u001b[01;32mCommunity_actions_processed.csv\u001b[0m*  \u001b[01;32mLiscence_retail_processed.csv\u001b[0m*\n",
      "Country_list.csv                  \u001b[01;32mPublic_use_processed.csv\u001b[0m*\n",
      "Country_list_final.csv            \u001b[01;32mTax_processed.csv\u001b[0m*\n",
      "\u001b[01;32mHealth_warning_processed.csv\u001b[0m*\n"
     ]
    }
   ],
   "source": [
    "ls dataprocessed/"
   ]
  },
  {
   "cell_type": "code",
   "execution_count": 461,
   "metadata": {},
   "outputs": [],
   "source": [
    "# creates one DataFrame with all policies\n",
    "al = pd.read_csv('dataprocessed/Age_limits_processed.csv')\n",
    "ca = pd.read_csv('dataprocessed/Community_actions_processed.csv')\n",
    "hw = pd.read_csv('dataprocessed/Health_warning_processed.csv')\n",
    "lp = pd.read_csv('dataprocessed/Liscence_production_processed.csv')\n",
    "lr = pd.read_csv('dataprocessed/Liscence_retail_processed.csv')\n",
    "tp = pd.read_csv('dataprocessed/Tax_processed.csv')\n",
    "pu = pd.read_csv('dataprocessed/Public_use_processed.csv')\n",
    "co = pd.read_csv('dataprocessed/Country_list_final.csv')\n",
    "\n",
    "df_policy_rough = al.set_index(['Country','Year']).join([ca.set_index(['Country','Year']), \n",
    "                                                  hw.set_index(['Country','Year']),\n",
    "                                                  #lp.set_index(['Country','Year']), # WHY? LOOK FOR ##1## !!\n",
    "                                                  lr.set_index(['Country','Year']),\n",
    "                                                  tp.set_index(['Country','Year']),\n",
    "                                                  pu.set_index(['Country','Year'])],\n",
    "                                                  how='outer')\n",
    "df_policy_rough = df_policy_rough.reset_index('Year')\n",
    "df_policy_rough = df_policy_rough.join(co.set_index(['Country']))\n",
    "df_policy_rough = df_policy_rough.drop(labels='Year', axis='columns')\n",
    "df_policy_rough = df_policy_rough.drop(labels='Number', axis='columns')\n",
    "\n"
   ]
  },
  {
   "cell_type": "code",
   "execution_count": 462,
   "metadata": {},
   "outputs": [
    {
     "data": {
      "text/plain": [
       "['No data', 'Yes', 'No', 'Total ban']"
      ]
     },
     "execution_count": 462,
     "metadata": {},
     "output_type": "execute_result"
    }
   ],
   "source": [
    "##1## REMARK\n",
    "# TODO: The data wasn't process well, still Tota ban, what does it mean?\n",
    "# lists unique values in the data frame\n",
    "df = pd.read_csv(Liscence_production_CSV_FILE_PATH)\n",
    "val1 = pd.Series()\n",
    "for column in df.columns[2:]:\n",
    "    val2 = pd.Series(df[column][1:].unique())\n",
    "    val1 = val1.append(val2)\n",
    "value_span = list(val1.unique())\n",
    "value_span"
   ]
  },
  {
   "cell_type": "code",
   "execution_count": 463,
   "metadata": {},
   "outputs": [
    {
     "name": "stdout",
     "output_type": "stream",
     "text": [
      "Number of countries with data about policies : 189\n"
     ]
    },
    {
     "data": {
      "text/plain": [
       "Age limits off-premise sales, Beer              171\n",
       "Age limits off-premise sales, Wine              171\n",
       "Age limits off-premise sales, Spirits           171\n",
       "Age limits on-premise service, Beer             171\n",
       "Age limits on-premise service, Wine             171\n",
       "Age limits on-premise service, Spirits          171\n",
       "Government support, Earmarked funds             173\n",
       "Government support, Technical tools             173\n",
       "Government support, Training programmes         173\n",
       "Government support, At-risk groups targeted     173\n",
       "Government support, Community programmes        173\n",
       "Government support, Provision of information    173\n",
       "Government support, Data dissemination          173\n",
       "Government support, Research studies            173\n",
       "Health warning labels                           165\n",
       "Licence for retail sales, Beer                  159\n",
       "Licence for retail sales, Wine                  159\n",
       "Licence for retail sales, Spirits               159\n",
       "Tax on Beer                                     166\n",
       "Tax on Wine                                     166\n",
       "Tax on Spirits                                  166\n",
       "Restrictions in educational buildings           166\n",
       "Restrictions in government offices              166\n",
       "Restrictions in healthcare establishments       166\n",
       "Restrictions in leisure events                  166\n",
       "Restrictions in parks and streets               166\n",
       "Restrictions in public transport                166\n",
       "Restrictions in places of worship               166\n",
       "Restrictions in sporting events                 166\n",
       "Restrictions in workplaces                      166\n",
       "Code                                            145\n",
       "Region                                          145\n",
       "Religion                                        145\n",
       "dtype: int64"
      ]
     },
     "execution_count": 463,
     "metadata": {},
     "output_type": "execute_result"
    }
   ],
   "source": [
    "## handling missing values\n",
    "\n",
    "# drop countries where there is no data\n",
    "df_policy=df_policy_rough.dropna(axis='rows', how='all')\n",
    "\n",
    "print('Number of countries with data about policies :', df_policy.shape[0])\n",
    "\n",
    "# maybe plot this so that we can visualize it\n",
    "df_policy.count()"
   ]
  },
  {
   "cell_type": "code",
   "execution_count": 464,
   "metadata": {},
   "outputs": [
    {
     "data": {
      "text/plain": [
       "Age limits off-premise sales, Beer              float64\n",
       "Age limits off-premise sales, Wine              float64\n",
       "Age limits off-premise sales, Spirits           float64\n",
       "Age limits on-premise service, Beer             float64\n",
       "Age limits on-premise service, Wine             float64\n",
       "Age limits on-premise service, Spirits          float64\n",
       "Government support, Earmarked funds             float64\n",
       "Government support, Technical tools             float64\n",
       "Government support, Training programmes         float64\n",
       "Government support, At-risk groups targeted     float64\n",
       "Government support, Community programmes        float64\n",
       "Government support, Provision of information    float64\n",
       "Government support, Data dissemination          float64\n",
       "Government support, Research studies            float64\n",
       "Health warning labels                           float64\n",
       "Licence for retail sales, Beer                  float64\n",
       "Licence for retail sales, Wine                  float64\n",
       "Licence for retail sales, Spirits               float64\n",
       "Tax on Beer                                     float64\n",
       "Tax on Wine                                     float64\n",
       "Tax on Spirits                                  float64\n",
       "Restrictions in educational buildings           float64\n",
       "Restrictions in government offices              float64\n",
       "Restrictions in healthcare establishments       float64\n",
       "Restrictions in leisure events                  float64\n",
       "Restrictions in parks and streets               float64\n",
       "Restrictions in public transport                float64\n",
       "Restrictions in places of worship               float64\n",
       "Restrictions in sporting events                 float64\n",
       "Restrictions in workplaces                      float64\n",
       "Code                                             object\n",
       "Region                                           object\n",
       "Religion                                         object\n",
       "dtype: object"
      ]
     },
     "execution_count": 464,
     "metadata": {},
     "output_type": "execute_result"
    }
   ],
   "source": [
    "#check the types\n",
    "df_policy.dtypes"
   ]
  },
  {
   "cell_type": "markdown",
   "metadata": {},
   "source": [
    "As there is a low number of missing data, we choose to impute the missing values with mean so as to keep as much meaningful data as possible"
   ]
  },
  {
   "cell_type": "code",
   "execution_count": 465,
   "metadata": {},
   "outputs": [
    {
     "name": "stderr",
     "output_type": "stream",
     "text": [
      "/home/tomas/anaconda3/envs/ada/lib/python3.7/site-packages/pandas/core/generic.py:6287: SettingWithCopyWarning: \n",
      "A value is trying to be set on a copy of a slice from a DataFrame\n",
      "\n",
      "See the caveats in the documentation: http://pandas.pydata.org/pandas-docs/stable/user_guide/indexing.html#returning-a-view-versus-a-copy\n",
      "  self._update_inplace(new_data)\n"
     ]
    },
    {
     "data": {
      "text/plain": [
       "Age limits off-premise sales, Beer              189\n",
       "Age limits off-premise sales, Wine              189\n",
       "Age limits off-premise sales, Spirits           189\n",
       "Age limits on-premise service, Beer             189\n",
       "Age limits on-premise service, Wine             189\n",
       "Age limits on-premise service, Spirits          189\n",
       "Government support, Earmarked funds             189\n",
       "Government support, Technical tools             189\n",
       "Government support, Training programmes         189\n",
       "Government support, At-risk groups targeted     189\n",
       "Government support, Community programmes        189\n",
       "Government support, Provision of information    189\n",
       "Government support, Data dissemination          189\n",
       "Government support, Research studies            189\n",
       "Health warning labels                           189\n",
       "Licence for retail sales, Beer                  189\n",
       "Licence for retail sales, Wine                  189\n",
       "Licence for retail sales, Spirits               189\n",
       "Tax on Beer                                     189\n",
       "Tax on Wine                                     189\n",
       "Tax on Spirits                                  189\n",
       "Restrictions in educational buildings           189\n",
       "Restrictions in government offices              189\n",
       "Restrictions in healthcare establishments       189\n",
       "Restrictions in leisure events                  189\n",
       "Restrictions in parks and streets               189\n",
       "Restrictions in public transport                189\n",
       "Restrictions in places of worship               189\n",
       "Restrictions in sporting events                 189\n",
       "Restrictions in workplaces                      189\n",
       "Code                                            145\n",
       "Region                                          145\n",
       "Religion                                        145\n",
       "dtype: int64"
      ]
     },
     "execution_count": 465,
     "metadata": {},
     "output_type": "execute_result"
    }
   ],
   "source": [
    "\n",
    "df_policy.fillna(df_policy.mean(), inplace=True)\n",
    "df_policy.count()"
   ]
  },
  {
   "cell_type": "markdown",
   "metadata": {},
   "source": [
    "We have some countries that are not in our region and religion dataset. This is probbly due to the fact that the regoinal division is from a UN dataset and some smaller countries are not part of the UN"
   ]
  },
  {
   "cell_type": "markdown",
   "metadata": {},
   "source": [
    "We identify three different means used by states to reduce the alcohol consumption:\n",
    "* charge money for alcohol production, retail and consumption\n",
    "* make the population aware of the dangers of alcohol\n",
    "* restrict access to alcohol"
   ]
  },
  {
   "cell_type": "code",
   "execution_count": 466,
   "metadata": {},
   "outputs": [
    {
     "data": {
      "text/html": [
       "<div>\n",
       "<style scoped>\n",
       "    .dataframe tbody tr th:only-of-type {\n",
       "        vertical-align: middle;\n",
       "    }\n",
       "\n",
       "    .dataframe tbody tr th {\n",
       "        vertical-align: top;\n",
       "    }\n",
       "\n",
       "    .dataframe thead th {\n",
       "        text-align: right;\n",
       "    }\n",
       "</style>\n",
       "<table border=\"1\" class=\"dataframe\">\n",
       "  <thead>\n",
       "    <tr style=\"text-align: right;\">\n",
       "      <th></th>\n",
       "      <th>Charges</th>\n",
       "      <th>Awareness</th>\n",
       "      <th>Restrictions</th>\n",
       "      <th>Code</th>\n",
       "      <th>Region</th>\n",
       "      <th>Religion</th>\n",
       "    </tr>\n",
       "  </thead>\n",
       "  <tbody>\n",
       "  </tbody>\n",
       "</table>\n",
       "</div>"
      ],
      "text/plain": [
       "Empty DataFrame\n",
       "Columns: [Charges, Awareness, Restrictions, Code, Region, Religion]\n",
       "Index: []"
      ]
     },
     "execution_count": 466,
     "metadata": {},
     "output_type": "execute_result"
    }
   ],
   "source": [
    "# Grouping policies\n",
    "groups = ['Charges', 'Awareness','Restrictions',list(df_policy.columns[30:])[0], list(df_policy.columns[30:])[1], list(df_policy.columns[30:])[2]]\n",
    "hierarchy = pd.DataFrame(columns=groups)\n",
    "hierarchy"
   ]
  },
  {
   "cell_type": "code",
   "execution_count": 467,
   "metadata": {},
   "outputs": [],
   "source": [
    "#getting lists of columns\n",
    "age_limits = list(df_policy.columns[:6])\n",
    "awareness = list(df_policy.columns[7:14])\n",
    "health = list(df_policy.columns[14:15])\n",
    "licence = list(df_policy.columns[15:18])\n",
    "charge = list(df_policy.columns[18:21])\n",
    "restriction = list(df_policy.columns[21:30])\n",
    "\n"
   ]
  },
  {
   "cell_type": "code",
   "execution_count": 468,
   "metadata": {},
   "outputs": [
    {
     "data": {
      "text/plain": [
       "'Code'"
      ]
     },
     "execution_count": 468,
     "metadata": {},
     "output_type": "execute_result"
    }
   ],
   "source": [
    "list(df_policy.columns[30:])[0]"
   ]
  },
  {
   "cell_type": "code",
   "execution_count": 469,
   "metadata": {},
   "outputs": [],
   "source": [
    "#grouping relevant columns together\n",
    "restriction.extend(age_limits)\n",
    "awareness.extend(health)\n",
    "awareness.extend(licence)\n"
   ]
  },
  {
   "cell_type": "code",
   "execution_count": 470,
   "metadata": {},
   "outputs": [
    {
     "data": {
      "text/html": [
       "<div>\n",
       "<style scoped>\n",
       "    .dataframe tbody tr th:only-of-type {\n",
       "        vertical-align: middle;\n",
       "    }\n",
       "\n",
       "    .dataframe tbody tr th {\n",
       "        vertical-align: top;\n",
       "    }\n",
       "\n",
       "    .dataframe thead th {\n",
       "        text-align: right;\n",
       "    }\n",
       "</style>\n",
       "<table border=\"1\" class=\"dataframe\">\n",
       "  <thead>\n",
       "    <tr style=\"text-align: right;\">\n",
       "      <th></th>\n",
       "      <th>Charges</th>\n",
       "      <th>Awareness</th>\n",
       "      <th>Restrictions</th>\n",
       "      <th>Code</th>\n",
       "      <th>Region</th>\n",
       "      <th>Religion</th>\n",
       "    </tr>\n",
       "    <tr>\n",
       "      <th>Country</th>\n",
       "      <th></th>\n",
       "      <th></th>\n",
       "      <th></th>\n",
       "      <th></th>\n",
       "      <th></th>\n",
       "      <th></th>\n",
       "    </tr>\n",
       "  </thead>\n",
       "  <tbody>\n",
       "    <tr>\n",
       "      <td>Afghanistan</td>\n",
       "      <td>0.927711</td>\n",
       "      <td>0.233422</td>\n",
       "      <td>1.0</td>\n",
       "      <td>AFG</td>\n",
       "      <td>Asia-Pacific Group</td>\n",
       "      <td>Islam</td>\n",
       "    </tr>\n",
       "    <tr>\n",
       "      <td>Albania</td>\n",
       "      <td>1.000000</td>\n",
       "      <td>0.545455</td>\n",
       "      <td>1.0</td>\n",
       "      <td>ALB</td>\n",
       "      <td>Eastern European Group</td>\n",
       "      <td>Islam</td>\n",
       "    </tr>\n",
       "    <tr>\n",
       "      <td>Algeria</td>\n",
       "      <td>1.000000</td>\n",
       "      <td>0.272727</td>\n",
       "      <td>1.0</td>\n",
       "      <td>DZA</td>\n",
       "      <td>African Group</td>\n",
       "      <td>Islam</td>\n",
       "    </tr>\n",
       "    <tr>\n",
       "      <td>Andorra</td>\n",
       "      <td>1.000000</td>\n",
       "      <td>0.272727</td>\n",
       "      <td>0.5</td>\n",
       "      <td>AND</td>\n",
       "      <td>Western European and Others Group</td>\n",
       "      <td>Roman Catholic</td>\n",
       "    </tr>\n",
       "    <tr>\n",
       "      <td>Angola</td>\n",
       "      <td>1.000000</td>\n",
       "      <td>0.545455</td>\n",
       "      <td>0.5</td>\n",
       "      <td>AGO</td>\n",
       "      <td>African Group</td>\n",
       "      <td>indigenous beliefs</td>\n",
       "    </tr>\n",
       "    <tr>\n",
       "      <td>Antigua and Barbuda</td>\n",
       "      <td>0.000000</td>\n",
       "      <td>0.454545</td>\n",
       "      <td>0.3</td>\n",
       "      <td>NaN</td>\n",
       "      <td>NaN</td>\n",
       "      <td>NaN</td>\n",
       "    </tr>\n",
       "    <tr>\n",
       "      <td>Argentina</td>\n",
       "      <td>0.666667</td>\n",
       "      <td>0.454545</td>\n",
       "      <td>0.3</td>\n",
       "      <td>ARG</td>\n",
       "      <td>Latin American and Caribbean Group</td>\n",
       "      <td>Roman Catholic</td>\n",
       "    </tr>\n",
       "    <tr>\n",
       "      <td>Armenia</td>\n",
       "      <td>1.000000</td>\n",
       "      <td>0.000000</td>\n",
       "      <td>1.0</td>\n",
       "      <td>ARM</td>\n",
       "      <td>Eastern European Group</td>\n",
       "      <td>Christian</td>\n",
       "    </tr>\n",
       "    <tr>\n",
       "      <td>Australia</td>\n",
       "      <td>1.000000</td>\n",
       "      <td>0.297885</td>\n",
       "      <td>0.3</td>\n",
       "      <td>AUS</td>\n",
       "      <td>Western European and Others Group</td>\n",
       "      <td>Roman Catholic</td>\n",
       "    </tr>\n",
       "    <tr>\n",
       "      <td>Austria</td>\n",
       "      <td>0.666667</td>\n",
       "      <td>0.000000</td>\n",
       "      <td>0.3</td>\n",
       "      <td>AUT</td>\n",
       "      <td>Western European and Others Group</td>\n",
       "      <td>Roman Catholic</td>\n",
       "    </tr>\n",
       "  </tbody>\n",
       "</table>\n",
       "</div>"
      ],
      "text/plain": [
       "                      Charges  Awareness  Restrictions Code  \\\n",
       "Country                                                       \n",
       "Afghanistan          0.927711   0.233422           1.0  AFG   \n",
       "Albania              1.000000   0.545455           1.0  ALB   \n",
       "Algeria              1.000000   0.272727           1.0  DZA   \n",
       "Andorra              1.000000   0.272727           0.5  AND   \n",
       "Angola               1.000000   0.545455           0.5  AGO   \n",
       "Antigua and Barbuda  0.000000   0.454545           0.3  NaN   \n",
       "Argentina            0.666667   0.454545           0.3  ARG   \n",
       "Armenia              1.000000   0.000000           1.0  ARM   \n",
       "Australia            1.000000   0.297885           0.3  AUS   \n",
       "Austria              0.666667   0.000000           0.3  AUT   \n",
       "\n",
       "                                                 Region            Religion  \n",
       "Country                                                                      \n",
       "Afghanistan                          Asia-Pacific Group               Islam  \n",
       "Albania                          Eastern European Group               Islam  \n",
       "Algeria                                   African Group               Islam  \n",
       "Andorra               Western European and Others Group      Roman Catholic  \n",
       "Angola                                    African Group  indigenous beliefs  \n",
       "Antigua and Barbuda                                 NaN                 NaN  \n",
       "Argentina            Latin American and Caribbean Group      Roman Catholic  \n",
       "Armenia                          Eastern European Group           Christian  \n",
       "Australia             Western European and Others Group      Roman Catholic  \n",
       "Austria               Western European and Others Group      Roman Catholic  "
      ]
     },
     "execution_count": 470,
     "metadata": {},
     "output_type": "execute_result"
    }
   ],
   "source": [
    "hierarchy['Charges'] = df_policy[charge].mean(axis=1)\n",
    "hierarchy['Awareness'] = df_policy[awareness].mean(axis=1)\n",
    "hierarchy['Restrictions'] = df_policy[restriction]\n",
    "hierarchy['Code'] = df_policy['Code']\n",
    "hierarchy['Region'] = df_policy['Region']\n",
    "hierarchy['Religion']= df_policy['Religion']\n",
    "hierarchy.head(10)"
   ]
  },
  {
   "cell_type": "markdown",
   "metadata": {},
   "source": [
    "## 3.1 Policy analysis\n",
    "\n",
    "In this section we want to analyse what ind of policies are present in different parts of the world and understand why"
   ]
  },
  {
   "cell_type": "code",
   "execution_count": 471,
   "metadata": {},
   "outputs": [
    {
     "data": {
      "text/plain": [
       "Charges         0.927711\n",
       "Awareness       0.495114\n",
       "Restrictions    0.755422\n",
       "dtype: float64"
      ]
     },
     "execution_count": 471,
     "metadata": {},
     "output_type": "execute_result"
    }
   ],
   "source": [
    "# what is the most common approach\n",
    "hierarchy.mean(axis=0)"
   ]
  },
  {
   "cell_type": "markdown",
   "metadata": {},
   "source": [
    "We can observe that in the world the most common alcohol control policy is to charge the consumer an extra fee.\n",
    "This makes sense as it is the easiest  to enforce also for lower-income countries, who do not have the budget to have government programmes to reduce alcohol consumption\n",
    "\n",
    "We look a bit closer inside each category"
   ]
  },
  {
   "cell_type": "code",
   "execution_count": 472,
   "metadata": {},
   "outputs": [],
   "source": [
    "df_policy_mean = df_policy.mean()\n"
   ]
  },
  {
   "cell_type": "code",
   "execution_count": 473,
   "metadata": {},
   "outputs": [],
   "source": [
    "bar_restriction = df_policy_mean[:6].append(df_policy_mean[15:18]).append(df_policy_mean[21:])\n",
    "bar_awareness = df_policy_mean[14:15].append(df_policy_mean[7:14])\n",
    "bar_charge = df_policy_mean[18:21]"
   ]
  },
  {
   "cell_type": "code",
   "execution_count": 474,
   "metadata": {},
   "outputs": [
    {
     "data": {
      "text/plain": [
       "Text(0, 0.5, 'percentage')"
      ]
     },
     "execution_count": 474,
     "metadata": {},
     "output_type": "execute_result"
    },
    {
     "data": {
      "image/png": "[encoded data removed]",
      "text/plain": [
       "<Figure size 432x288 with 1 Axes>"
      ]
     },
     "metadata": {
      "needs_background": "light"
     },
     "output_type": "display_data"
    }
   ],
   "source": [
    "bar_restriction.plot(kind='bar', stacked=True)\n",
    "# Add title and axis names\n",
    "plt.title('Restriction policies')\n",
    "\n",
    "plt.ylabel('percentage')\n",
    " "
   ]
  },
  {
   "cell_type": "code",
   "execution_count": 475,
   "metadata": {},
   "outputs": [
    {
     "data": {
      "text/plain": [
       "Text(0, 0.5, 'percentage')"
      ]
     },
     "execution_count": 475,
     "metadata": {},
     "output_type": "execute_result"
    },
    {
     "data": {
      "image/png": "[encoded data removed]",
      "text/plain": [
       "<Figure size 432x288 with 1 Axes>"
      ]
     },
     "metadata": {
      "needs_background": "light"
     },
     "output_type": "display_data"
    }
   ],
   "source": [
    "bar_charge.plot(kind='bar', stacked=True)\n",
    "# Add title and axis names\n",
    "plt.title('Charge policies')\n",
    "\n",
    "plt.ylabel('popularity index')\n",
    " "
   ]
  },
  {
   "cell_type": "code",
   "execution_count": 476,
   "metadata": {},
   "outputs": [
    {
     "data": {
      "text/plain": [
       "Text(0, 0.5, 'percentage')"
      ]
     },
     "execution_count": 476,
     "metadata": {},
     "output_type": "execute_result"
    },
    {
     "data": {
      "image/png": "[encoded data removed]",
      "text/plain": [
       "<Figure size 432x288 with 1 Axes>"
      ]
     },
     "metadata": {
      "needs_background": "light"
     },
     "output_type": "display_data"
    }
   ],
   "source": [
    "bar_awareness.plot(kind='bar', stacked=True)\n",
    "# Add title and axis names\n",
    "plt.title('Awareness policies')\n",
    "\n",
    "plt.ylabel('popularity index')\n"
   ]
  },
  {
   "cell_type": "markdown",
   "metadata": {},
   "source": [
    "Being restriction policies a collection of many different policies there is a difference in the usage by countries of these policies. We can observe though that all these policies are not as popular as taxing alcoholic beverages"
   ]
  },
  {
   "cell_type": "markdown",
   "metadata": {},
   "source": [
    "### Policies by region and religion\n",
    "\n",
    "we want to do the same analysis but by grouping the policies by country and religion"
   ]
  },
  {
   "cell_type": "code",
   "execution_count": 485,
   "metadata": {},
   "outputs": [
    {
     "data": {
      "text/plain": [
       "Text(0.5, 1.0, 'Policies types by region')"
      ]
     },
     "execution_count": 485,
     "metadata": {},
     "output_type": "execute_result"
    },
    {
     "data": {
      "image/png": "[encoded data removed]",
      "text/plain": [
       "<Figure size 432x288 with 1 Axes>"
      ]
     },
     "metadata": {
      "needs_background": "light"
     },
     "output_type": "display_data"
    }
   ],
   "source": [
    "mean_by_region = hierarchy.groupby('Region').mean()\n",
    "mean_by_region.plot(kind= 'bar')\n",
    "plt.ylabel('popularity index')\n",
    "plt.title('Policies types by region')\n",
    "\n"
   ]
  },
  {
   "cell_type": "markdown",
   "metadata": {},
   "source": [
    "We can observe the popularity of different kind of policies is similar for different regions. The hypothesis made above about awareness being a policy put forward by developed countries does not stand as Western Europe has little difference with the other region in this category"
   ]
  },
  {
   "cell_type": "code",
   "execution_count": 486,
   "metadata": {},
   "outputs": [
    {
     "data": {
      "text/plain": [
       "Text(0.5, 1.0, 'Policies types by religion')"
      ]
     },
     "execution_count": 486,
     "metadata": {},
     "output_type": "execute_result"
    },
    {
     "data": {
      "image/png": "[encoded data removed]",
      "text/plain": [
       "<Figure size 432x288 with 1 Axes>"
      ]
     },
     "metadata": {
      "needs_background": "light"
     },
     "output_type": "display_data"
    }
   ],
   "source": [
    "mean_by_religion = hierarchy.groupby('Religion').mean()\n",
    "mean_by_religion.plot(kind= 'bar')\n",
    "plt.ylabel('popularity index')\n",
    "plt.title('Policies types by religion')\n"
   ]
  },
  {
   "cell_type": "markdown",
   "metadata": {},
   "source": [
    "We can observe a few differences between countries with different religions\n",
    "* Islamic and officially atheist (China) coutries have high number of regulations. The former due to the ban of alcohol imposed by the religion, the second due to the autocratic organization of the state\n",
    "* Christian groups, except Roman Catholic and Orthodox, seem to have fewer restriction policies compared to other countries. \n",
    "* Orthodox and non-specified Christian countries have the lowest usage of taxes on alcoholic beverages. This can be due to the high cultural importance of alcohol in many post-soviet nations which are also orthodox"
   ]
  },
  {
   "cell_type": "markdown",
   "metadata": {},
   "source": [
    "## 3.1 Age-limit v.s. Pure alcohol consumption"
   ]
  },
  {
   "cell_type": "code",
   "execution_count": 484,
   "metadata": {},
   "outputs": [
    {
     "ename": "FileNotFoundError",
     "evalue": "[Errno 2] File b'./dataprocessed/Consumption_processed.csv' does not exist: b'./dataprocessed/Consumption_processed.csv'",
     "output_type": "error",
     "traceback": [
      "\u001b[0;31m---------------------------------------------------------------------------\u001b[0m",
      "\u001b[0;31mFileNotFoundError\u001b[0m                         Traceback (most recent call last)",
      "\u001b[0;32m<ipython-input-484-c633152daf06>\u001b[0m in \u001b[0;36m<module>\u001b[0;34m\u001b[0m\n\u001b[0;32m----> 1\u001b[0;31m \u001b[0mdf\u001b[0m \u001b[0;34m=\u001b[0m \u001b[0mpd\u001b[0m\u001b[0;34m.\u001b[0m\u001b[0mread_csv\u001b[0m\u001b[0;34m(\u001b[0m\u001b[0;34m\"./dataprocessed/Consumption_processed.csv\"\u001b[0m\u001b[0;34m,\u001b[0m \u001b[0mnames\u001b[0m\u001b[0;34m=\u001b[0m\u001b[0;34m[\u001b[0m\u001b[0;34m'Country'\u001b[0m\u001b[0;34m,\u001b[0m \u001b[0;34m'2015-2017'\u001b[0m\u001b[0;34m,\u001b[0m \u001b[0;34m'2009-2011'\u001b[0m\u001b[0;34m,\u001b[0m \u001b[0;34m'Age limits Beer'\u001b[0m\u001b[0;34m]\u001b[0m\u001b[0;34m)\u001b[0m\u001b[0;34m\u001b[0m\u001b[0;34m\u001b[0m\u001b[0m\n\u001b[0m\u001b[1;32m      2\u001b[0m \u001b[0mprint\u001b[0m\u001b[0;34m(\u001b[0m\u001b[0mdf\u001b[0m\u001b[0;34m.\u001b[0m\u001b[0mhead\u001b[0m\u001b[0;34m(\u001b[0m\u001b[0;36m10\u001b[0m\u001b[0;34m)\u001b[0m\u001b[0;34m)\u001b[0m\u001b[0;34m\u001b[0m\u001b[0;34m\u001b[0m\u001b[0m\n\u001b[1;32m      3\u001b[0m \u001b[0mprint\u001b[0m\u001b[0;34m(\u001b[0m\u001b[0mdf\u001b[0m\u001b[0;34m.\u001b[0m\u001b[0mcolumns\u001b[0m\u001b[0;34m)\u001b[0m\u001b[0;34m\u001b[0m\u001b[0;34m\u001b[0m\u001b[0m\n",
      "\u001b[0;32m~/anaconda3/envs/ada/lib/python3.7/site-packages/pandas/io/parsers.py\u001b[0m in \u001b[0;36mparser_f\u001b[0;34m(filepath_or_buffer, sep, delimiter, header, names, index_col, usecols, squeeze, prefix, mangle_dupe_cols, dtype, engine, converters, true_values, false_values, skipinitialspace, skiprows, skipfooter, nrows, na_values, keep_default_na, na_filter, verbose, skip_blank_lines, parse_dates, infer_datetime_format, keep_date_col, date_parser, dayfirst, cache_dates, iterator, chunksize, compression, thousands, decimal, lineterminator, quotechar, quoting, doublequote, escapechar, comment, encoding, dialect, error_bad_lines, warn_bad_lines, delim_whitespace, low_memory, memory_map, float_precision)\u001b[0m\n\u001b[1;32m    683\u001b[0m         )\n\u001b[1;32m    684\u001b[0m \u001b[0;34m\u001b[0m\u001b[0m\n\u001b[0;32m--> 685\u001b[0;31m         \u001b[0;32mreturn\u001b[0m \u001b[0m_read\u001b[0m\u001b[0;34m(\u001b[0m\u001b[0mfilepath_or_buffer\u001b[0m\u001b[0;34m,\u001b[0m \u001b[0mkwds\u001b[0m\u001b[0;34m)\u001b[0m\u001b[0;34m\u001b[0m\u001b[0;34m\u001b[0m\u001b[0m\n\u001b[0m\u001b[1;32m    686\u001b[0m \u001b[0;34m\u001b[0m\u001b[0m\n\u001b[1;32m    687\u001b[0m     \u001b[0mparser_f\u001b[0m\u001b[0;34m.\u001b[0m\u001b[0m__name__\u001b[0m \u001b[0;34m=\u001b[0m \u001b[0mname\u001b[0m\u001b[0;34m\u001b[0m\u001b[0;34m\u001b[0m\u001b[0m\n",
      "\u001b[0;32m~/anaconda3/envs/ada/lib/python3.7/site-packages/pandas/io/parsers.py\u001b[0m in \u001b[0;36m_read\u001b[0;34m(filepath_or_buffer, kwds)\u001b[0m\n\u001b[1;32m    455\u001b[0m \u001b[0;34m\u001b[0m\u001b[0m\n\u001b[1;32m    456\u001b[0m     \u001b[0;31m# Create the parser.\u001b[0m\u001b[0;34m\u001b[0m\u001b[0;34m\u001b[0m\u001b[0;34m\u001b[0m\u001b[0m\n\u001b[0;32m--> 457\u001b[0;31m     \u001b[0mparser\u001b[0m \u001b[0;34m=\u001b[0m \u001b[0mTextFileReader\u001b[0m\u001b[0;34m(\u001b[0m\u001b[0mfp_or_buf\u001b[0m\u001b[0;34m,\u001b[0m \u001b[0;34m**\u001b[0m\u001b[0mkwds\u001b[0m\u001b[0;34m)\u001b[0m\u001b[0;34m\u001b[0m\u001b[0;34m\u001b[0m\u001b[0m\n\u001b[0m\u001b[1;32m    458\u001b[0m \u001b[0;34m\u001b[0m\u001b[0m\n\u001b[1;32m    459\u001b[0m     \u001b[0;32mif\u001b[0m \u001b[0mchunksize\u001b[0m \u001b[0;32mor\u001b[0m \u001b[0miterator\u001b[0m\u001b[0;34m:\u001b[0m\u001b[0;34m\u001b[0m\u001b[0;34m\u001b[0m\u001b[0m\n",
      "\u001b[0;32m~/anaconda3/envs/ada/lib/python3.7/site-packages/pandas/io/parsers.py\u001b[0m in \u001b[0;36m__init__\u001b[0;34m(self, f, engine, **kwds)\u001b[0m\n\u001b[1;32m    893\u001b[0m             \u001b[0mself\u001b[0m\u001b[0;34m.\u001b[0m\u001b[0moptions\u001b[0m\u001b[0;34m[\u001b[0m\u001b[0;34m\"has_index_names\"\u001b[0m\u001b[0;34m]\u001b[0m \u001b[0;34m=\u001b[0m \u001b[0mkwds\u001b[0m\u001b[0;34m[\u001b[0m\u001b[0;34m\"has_index_names\"\u001b[0m\u001b[0;34m]\u001b[0m\u001b[0;34m\u001b[0m\u001b[0;34m\u001b[0m\u001b[0m\n\u001b[1;32m    894\u001b[0m \u001b[0;34m\u001b[0m\u001b[0m\n\u001b[0;32m--> 895\u001b[0;31m         \u001b[0mself\u001b[0m\u001b[0;34m.\u001b[0m\u001b[0m_make_engine\u001b[0m\u001b[0;34m(\u001b[0m\u001b[0mself\u001b[0m\u001b[0;34m.\u001b[0m\u001b[0mengine\u001b[0m\u001b[0;34m)\u001b[0m\u001b[0;34m\u001b[0m\u001b[0;34m\u001b[0m\u001b[0m\n\u001b[0m\u001b[1;32m    896\u001b[0m \u001b[0;34m\u001b[0m\u001b[0m\n\u001b[1;32m    897\u001b[0m     \u001b[0;32mdef\u001b[0m \u001b[0mclose\u001b[0m\u001b[0;34m(\u001b[0m\u001b[0mself\u001b[0m\u001b[0;34m)\u001b[0m\u001b[0;34m:\u001b[0m\u001b[0;34m\u001b[0m\u001b[0;34m\u001b[0m\u001b[0m\n",
      "\u001b[0;32m~/anaconda3/envs/ada/lib/python3.7/site-packages/pandas/io/parsers.py\u001b[0m in \u001b[0;36m_make_engine\u001b[0;34m(self, engine)\u001b[0m\n\u001b[1;32m   1133\u001b[0m     \u001b[0;32mdef\u001b[0m \u001b[0m_make_engine\u001b[0m\u001b[0;34m(\u001b[0m\u001b[0mself\u001b[0m\u001b[0;34m,\u001b[0m \u001b[0mengine\u001b[0m\u001b[0;34m=\u001b[0m\u001b[0;34m\"c\"\u001b[0m\u001b[0;34m)\u001b[0m\u001b[0;34m:\u001b[0m\u001b[0;34m\u001b[0m\u001b[0;34m\u001b[0m\u001b[0m\n\u001b[1;32m   1134\u001b[0m         \u001b[0;32mif\u001b[0m \u001b[0mengine\u001b[0m \u001b[0;34m==\u001b[0m \u001b[0;34m\"c\"\u001b[0m\u001b[0;34m:\u001b[0m\u001b[0;34m\u001b[0m\u001b[0;34m\u001b[0m\u001b[0m\n\u001b[0;32m-> 1135\u001b[0;31m             \u001b[0mself\u001b[0m\u001b[0;34m.\u001b[0m\u001b[0m_engine\u001b[0m \u001b[0;34m=\u001b[0m \u001b[0mCParserWrapper\u001b[0m\u001b[0;34m(\u001b[0m\u001b[0mself\u001b[0m\u001b[0;34m.\u001b[0m\u001b[0mf\u001b[0m\u001b[0;34m,\u001b[0m \u001b[0;34m**\u001b[0m\u001b[0mself\u001b[0m\u001b[0;34m.\u001b[0m\u001b[0moptions\u001b[0m\u001b[0;34m)\u001b[0m\u001b[0;34m\u001b[0m\u001b[0;34m\u001b[0m\u001b[0m\n\u001b[0m\u001b[1;32m   1136\u001b[0m         \u001b[0;32melse\u001b[0m\u001b[0;34m:\u001b[0m\u001b[0;34m\u001b[0m\u001b[0;34m\u001b[0m\u001b[0m\n\u001b[1;32m   1137\u001b[0m             \u001b[0;32mif\u001b[0m \u001b[0mengine\u001b[0m \u001b[0;34m==\u001b[0m \u001b[0;34m\"python\"\u001b[0m\u001b[0;34m:\u001b[0m\u001b[0;34m\u001b[0m\u001b[0;34m\u001b[0m\u001b[0m\n",
      "\u001b[0;32m~/anaconda3/envs/ada/lib/python3.7/site-packages/pandas/io/parsers.py\u001b[0m in \u001b[0;36m__init__\u001b[0;34m(self, src, **kwds)\u001b[0m\n\u001b[1;32m   1915\u001b[0m         \u001b[0mkwds\u001b[0m\u001b[0;34m[\u001b[0m\u001b[0;34m\"usecols\"\u001b[0m\u001b[0;34m]\u001b[0m \u001b[0;34m=\u001b[0m \u001b[0mself\u001b[0m\u001b[0;34m.\u001b[0m\u001b[0musecols\u001b[0m\u001b[0;34m\u001b[0m\u001b[0;34m\u001b[0m\u001b[0m\n\u001b[1;32m   1916\u001b[0m \u001b[0;34m\u001b[0m\u001b[0m\n\u001b[0;32m-> 1917\u001b[0;31m         \u001b[0mself\u001b[0m\u001b[0;34m.\u001b[0m\u001b[0m_reader\u001b[0m \u001b[0;34m=\u001b[0m \u001b[0mparsers\u001b[0m\u001b[0;34m.\u001b[0m\u001b[0mTextReader\u001b[0m\u001b[0;34m(\u001b[0m\u001b[0msrc\u001b[0m\u001b[0;34m,\u001b[0m \u001b[0;34m**\u001b[0m\u001b[0mkwds\u001b[0m\u001b[0;34m)\u001b[0m\u001b[0;34m\u001b[0m\u001b[0;34m\u001b[0m\u001b[0m\n\u001b[0m\u001b[1;32m   1918\u001b[0m         \u001b[0mself\u001b[0m\u001b[0;34m.\u001b[0m\u001b[0munnamed_cols\u001b[0m \u001b[0;34m=\u001b[0m \u001b[0mself\u001b[0m\u001b[0;34m.\u001b[0m\u001b[0m_reader\u001b[0m\u001b[0;34m.\u001b[0m\u001b[0munnamed_cols\u001b[0m\u001b[0;34m\u001b[0m\u001b[0;34m\u001b[0m\u001b[0m\n\u001b[1;32m   1919\u001b[0m \u001b[0;34m\u001b[0m\u001b[0m\n",
      "\u001b[0;32mpandas/_libs/parsers.pyx\u001b[0m in \u001b[0;36mpandas._libs.parsers.TextReader.__cinit__\u001b[0;34m()\u001b[0m\n",
      "\u001b[0;32mpandas/_libs/parsers.pyx\u001b[0m in \u001b[0;36mpandas._libs.parsers.TextReader._setup_parser_source\u001b[0;34m()\u001b[0m\n",
      "\u001b[0;31mFileNotFoundError\u001b[0m: [Errno 2] File b'./dataprocessed/Consumption_processed.csv' does not exist: b'./dataprocessed/Consumption_processed.csv'"
     ]
    }
   ],
   "source": [
    "df = pd.read_csv(\"./dataprocessed/Consumption_processed.csv\", names=['Country', '2015-2017', '2009-2011', 'Age limits Beer'])\n",
    "print(df.head(10))\n",
    "print(df.columns)"
   ]
  },
  {
   "cell_type": "code",
   "execution_count": null,
   "metadata": {},
   "outputs": [],
   "source": [
    "df.dtype"
   ]
  },
  {
   "cell_type": "code",
   "execution_count": null,
   "metadata": {},
   "outputs": [],
   "source": [
    "df_test = df[2:12]\n",
    "plt.bar(df_test['Country'], df_test['2015-2017']) # plot\n",
    "plt.xticks(rotation=30)"
   ]
  },
  {
   "cell_type": "code",
   "execution_count": null,
   "metadata": {},
   "outputs": [],
   "source": [
    "# name_list = ['Monday','Tuesday','Friday','Sunday']\n",
    "# num_list = [1.5,0.6,7.8,6]\n",
    "# num_list1 = [1,2,3,1]\n",
    "# x =list(range(len(num_list)))\n",
    "total_width, n = 0.8, 2\n",
    "width = total_width / n\n",
    " \n",
    "plt.bar(df_test['Country'], df_test['2015-2017'], width=width, label='consumption',fc = 'y')\n",
    "for item in df_test['Country']:\n",
    "    item = item + width\n",
    "plt.bar(x, df_test['Age limits Beer'], width=width, label='Age_limits',tick_label = df_test['Country'],fc = 'r')\n",
    "plt.xticks(rotation=30)\n",
    "plt.legend()\n",
    "plt.show()"
   ]
  },
  {
   "cell_type": "code",
   "execution_count": null,
   "metadata": {},
   "outputs": [],
   "source": []
  },
  {
   "cell_type": "markdown",
   "metadata": {},
   "source": [
    "# Until next milestone"
   ]
  },
  {
   "cell_type": "markdown",
   "metadata": {},
   "source": [
    "## Get data on alcohol control policies for other countries than 2016\n",
    "\n",
    "Our initial plan was to use a alcohol control policy timeline dataset to compare the time series . After cleaning this dataset and starting exloring the results it is clear that too many countries are missing for many years and it becomes impossible to compare between countries (see WHO_policy_timeline_edited)\n",
    "\n",
    "For this reason we need to aquire the data on alcohol policies from another source, our options are:\n",
    "* Ask WHO to provide us with same data there is on their website for 2016 for previous years\n",
    "* Scrape PDF of Countries profiles in [Global reports on alcohol consumption](https://www.who.int/substance_abuse/publications/alcohol/en/), we know that there is data for 2016, 2014, 2011 and 2004 in these documents\n",
    "* Manually insert all information from country profiles into a database"
   ]
  },
  {
   "cell_type": "markdown",
   "metadata": {},
   "source": [
    "## Predictive model of alcohol consumption of countries given policies and other external factors\n",
    "\n",
    "The number of samples for only one country is too small (less than 200), which does not allow to create a meaninful regression to predict the alcohol consumption. If we manage to include also the data for 3 more years the number of samples would go to about 600-700 which already for which a regression model could work"
   ]
  },
  {
   "cell_type": "markdown",
   "metadata": {},
   "source": [
    "## Qualitative case studies of China, France, Switzerland and Ukraine\n",
    "\n",
    "We want to qualitatively observe if in our native countries changes in alcohol consumption is caused by a change in legislation and if this corresponds to what our model predicts"
   ]
  },
  {
   "cell_type": "code",
   "execution_count": null,
   "metadata": {},
   "outputs": [],
   "source": []
  },
  {
   "cell_type": "code",
   "execution_count": null,
   "metadata": {},
   "outputs": [],
   "source": []
  },
  {
   "cell_type": "code",
   "execution_count": null,
   "metadata": {},
   "outputs": [],
   "source": []
  },
  {
   "cell_type": "code",
   "execution_count": null,
   "metadata": {},
   "outputs": [],
   "source": []
  },
  {
   "cell_type": "code",
   "execution_count": null,
   "metadata": {},
   "outputs": [],
   "source": []
  },
  {
   "cell_type": "code",
   "execution_count": null,
   "metadata": {},
   "outputs": [],
   "source": []
  },
  {
   "cell_type": "code",
   "execution_count": null,
   "metadata": {},
   "outputs": [],
   "source": []
  }
 ],
 "metadata": {
  "kernelspec": {
   "display_name": "Python 3",
   "language": "python",
   "name": "python3"
  },
  "language_info": {
   "codemirror_mode": {
    "name": "ipython",
    "version": 3
   },
   "file_extension": ".py",
   "mimetype": "text/x-python",
   "name": "python",
   "nbconvert_exporter": "python",
   "pygments_lexer": "ipython3",
   "version": "3.7.4"
  }
 },
 "nbformat": 4,
 "nbformat_minor": 4
}
