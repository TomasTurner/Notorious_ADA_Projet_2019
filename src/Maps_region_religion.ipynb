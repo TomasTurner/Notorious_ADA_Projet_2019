{
 "cells": [
  {
   "cell_type": "markdown",
   "metadata": {},
   "source": [
    "# 1.Divide Region\n",
    "\n"
   ]
  },
  {
   "cell_type": "code",
   "execution_count": 1,
   "metadata": {},
   "outputs": [],
   "source": [
    "# import libraries\n",
    "import pandas as pd\n",
    "import numpy as np\n",
    "import csv\n",
    "import matplotlib.pyplot as plt\n",
    "import geopandas\n",
    "import matplotlib.pylab as pylab\n",
    "# import geoplot\n",
    "pylab.rcParams['figure.figsize'] = 20, 20"
   ]
  },
  {
   "cell_type": "code",
   "execution_count": 2,
   "metadata": {},
   "outputs": [],
   "source": [
    "#file_path_definitions\n",
    "Age_limits_CSV_FILE_PATH = './projectdata/Age_limits.csv'\n",
    "Public_use_CSV_FILE_PATH = './projectdata/Public_use.csv'\n",
    "Liscence_retail_CSV_FILE_PATH = './projectdata/Licence_retail.csv'  # bool influence the retail sales first\n",
    "Liscence_production_CSV_FILE_PATH = './projectdata/Licence_production.csv'\n",
    "Tax_CSV_FILE_PATH = './projectdata/Tax.csv'   # bool\n",
    "Community_actions_CSV_FILE_PATH = './projectdata/Community_action.csv'  #  bool\n",
    "Health_warning_CSV_FILE_PATH = './projectdata/Health_warning.csv'\n",
    "Consumption_CSV_FILE_PATH = './projectdata/Consumption.csv'\n",
    "Countries_list_PATH = './dataprocessed/Country_list_final_2.csv'\n",
    "Countries_location_PATH = './dataprocessed/Country_location.csv'\n",
    "Countries_code_PATH = './dataprocessed/iso_countries_list.csv'"
   ]
  },
  {
   "cell_type": "code",
   "execution_count": 3,
   "metadata": {},
   "outputs": [
    {
     "data": {
      "application/javascript": [
       "IPython.OutputArea.auto_scroll_threshold = 9999;\n"
      ],
      "text/plain": [
       "<IPython.core.display.Javascript object>"
      ]
     },
     "metadata": {},
     "output_type": "display_data"
    }
   ],
   "source": [
    "%%javascript\n",
    "IPython.OutputArea.auto_scroll_threshold = 9999;"
   ]
  },
  {
   "cell_type": "markdown",
   "metadata": {},
   "source": [
    "1. We have divided all the countries in the database into eight parts according to the United Nations geographical division criteria.\n",
    "2. This is because we take into account that countries in the same region have similar political conditions, living habits and cultural background, such as countries in the EU, while countries in different regions are quite different in these aspects.\n",
    "3. Therefore, our subsequent analysis will be based on the results of the following country segmentation."
   ]
  },
  {
   "cell_type": "code",
   "execution_count": 4,
   "metadata": {},
   "outputs": [],
   "source": [
    "def process_text(origin_text):\n",
    "    new_text = origin_text.capitalize()\n",
    "    new_text = ''.join(new_text.split('-'))\n",
    "    new_text = ''.join(new_text.split(' '))\n",
    "    new_text = ''.join(new_text.split('\\t'))\n",
    "    return new_text"
   ]
  },
  {
   "cell_type": "code",
   "execution_count": 5,
   "metadata": {},
   "outputs": [],
   "source": [
    "def process_country_name(Filename, newFile_path, column):\n",
    "    df = pd.read_csv(Filename, header=None, sep=',')\n",
    "    for row in df.iterrows():\n",
    "        country_name = row[1][column]\n",
    "        if isinstance(country_name,str):\n",
    "            row[1][column]=process_text(country_name)\n",
    "    df.to_csv(newFile_path, header=None, index=False, sep=',')"
   ]
  },
  {
   "cell_type": "code",
   "execution_count": 6,
   "metadata": {},
   "outputs": [],
   "source": [
    "def leave_out_nodata(Filename, newFile_path):\n",
    "    df = pd.read_csv(Filename, header=None, sep=',')\n",
    "    df = df[(df[2]!='No data')&(df[3]!='No data')&(df[4]!='No data')]\n",
    "    df.to_csv(newFile_path,header=None,index=False,sep=',')\n",
    "\n",
    "def leave_out_nodata_one(Filename, newFile_path):\n",
    "    df = pd.read_csv(Filename, header=None, sep=',')\n",
    "    df = df[df[2]!='No data']\n",
    "    df.to_csv(newFile_path,header=None,index=False,sep=',')\n",
    "    \n",
    "def leave_out_nodata_multi(Filename, newFile_path):\n",
    "    df = pd.read_csv(Filename, header=None, sep=',')\n",
    "    df = df[(df[2]!='No data')&(df[3]!='No data')&(df[4]!='No data')&(df[5]!='No data')&(df[6]!='No data')&(df[7]!='No data')&(df[8]!='No data')&(df[9]!='No data')&(df[10]!='No data')]\n",
    "    df.to_csv(newFile_path,header=None,index=False,sep=',')"
   ]
  },
  {
   "cell_type": "code",
   "execution_count": 7,
   "metadata": {},
   "outputs": [],
   "source": [
    "# dict for file countriy_list_final, input country name and get iso3\n",
    "def dict_country_code3(inputcountry):\n",
    "    with open(Countries_list_PATH,'r',encoding=\"utf-8\") as f:\n",
    "        reader = csv.reader(f)\n",
    "        fieldnames = next(reader) #get first row，as key for the dictionary get from generator next\n",
    "        csv_reader = csv.DictReader(f,fieldnames=fieldnames) #self._fieldnames = fieldnames   # list of keys for the dict 以list的形式存放键名\n",
    "        for row in csv_reader:\n",
    "            d = {}\n",
    "            for k,v in row.items():\n",
    "                d[k]=v\n",
    "            if d['Country']==inputcountry:\n",
    "                outputcode = d['iso3']\n",
    "                return(outputcode)\n",
    "        return False\n",
    "\n",
    "# dict for file countriy_list_final, input country name and get Region\n",
    "def dict_country_region(inputcountry):\n",
    "    with open(Countries_list_PATH,'r',encoding=\"utf-8\") as f:\n",
    "        reader = csv.reader(f)\n",
    "        fieldnames = next(reader) #get first row，as key for the dictionary get from generator next\n",
    "        csv_reader = csv.DictReader(f,fieldnames=fieldnames) #self._fieldnames = fieldnames   # list of keys for the dict 以list的形式存放键名\n",
    "        for row in csv_reader:\n",
    "            d = {}\n",
    "            for k,v in row.items():\n",
    "                d[k]=v\n",
    "            if d['Country']==inputcountry:\n",
    "                outputregion = d['Region']\n",
    "                return(outputregion)\n",
    "        return False\n",
    "\n",
    "# dict for file countriy_list_final, input country name and get Religion\n",
    "def dict_country_religion(inputcountry):\n",
    "    with open(Countries_list_PATH,'r',encoding=\"utf-8\") as f:\n",
    "        reader = csv.reader(f)\n",
    "        fieldnames = next(reader) #get first row，as key for the dictionary get from generator next\n",
    "        csv_reader = csv.DictReader(f,fieldnames=fieldnames) #self._fieldnames = fieldnames   # list of keys for the dict 以list的形式存放键名\n",
    "        for row in csv_reader:\n",
    "            d = {}\n",
    "            for k,v in row.items():\n",
    "                d[k]=v\n",
    "            if d['Country']==inputcountry:\n",
    "                outputreligion = d['Religion']\n",
    "                return(outputreligion)\n",
    "        return False"
   ]
  },
  {
   "cell_type": "code",
   "execution_count": 8,
   "metadata": {},
   "outputs": [],
   "source": [
    "# dict for file iso_countries_list, input iso3 and get iso2\n",
    "def dict_country_code2(inputcode3):\n",
    "    with open(Countries_code_PATH,'r',encoding=\"utf-8\") as f:\n",
    "        reader = csv.reader(f)\n",
    "        fieldnames = next(reader)\n",
    "        csv_reader = csv.DictReader(f,fieldnames=fieldnames) #self._fieldnames = fieldnames   # list of keys for the dict 以list的形式存放键名\n",
    "        for row in csv_reader:\n",
    "            d = {}\n",
    "            for k,v in row.items():\n",
    "                d[k]=v\n",
    "            if d['iso3']==inputcode3:\n",
    "                outputcode2 = d['iso2']\n",
    "                return(outputcode2)\n",
    "        return False\n",
    "\n",
    "# dict for file countries_location_list, input iso2 and get latitude\n",
    "def dict_country_latitude(inputcode2):\n",
    "    with open(Countries_location_PATH,'r',encoding=\"utf-8\") as f:\n",
    "        reader = csv.reader(f)\n",
    "        fieldnames = next(reader)\n",
    "        csv_reader = csv.DictReader(f,fieldnames=fieldnames) #self._fieldnames = fieldnames   # list of keys for the dict 以list的形式存放键名\n",
    "        for row in csv_reader:\n",
    "            d = {}\n",
    "            for k,v in row.items():\n",
    "                d[k]=v\n",
    "            if d['\\ufeffiso2']==inputcode2:\n",
    "                outputlatitude = d['latitude']\n",
    "                return outputlatitude\n",
    "        return False\n",
    "\n",
    "# dict for file countries_location_list, input iso2 and get longitude\n",
    "def dict_country_longitude(inputcode2):\n",
    "    with open(Countries_location_PATH,'r',encoding=\"utf-8\") as f:\n",
    "        reader = csv.reader(f)\n",
    "        fieldnames = next(reader)\n",
    "        csv_reader = csv.DictReader(f,fieldnames=fieldnames) #self._fieldnames = fieldnames   # list of keys for the dict 以list的形式存放键名\n",
    "        for row in csv_reader:\n",
    "            d = {}\n",
    "            for k,v in row.items():\n",
    "                d[k]=v\n",
    "            if d['\\ufeffiso2']==inputcode2:\n",
    "                outputlongitude = d['longitude']\n",
    "                return outputlongitude\n",
    "        return False"
   ]
  },
  {
   "cell_type": "code",
   "execution_count": 9,
   "metadata": {},
   "outputs": [],
   "source": [
    "# dict for file Consumption , input countryname and get consumption\n",
    "def dict_country_longitude(inputcode2):\n",
    "    with open(Countries_location_PATH,'r',encoding=\"utf-8\") as f:\n",
    "        reader = csv.reader(f)\n",
    "        fieldnames = next(reader)\n",
    "        csv_reader = csv.DictReader(f,fieldnames=fieldnames) #self._fieldnames = fieldnames   # list of keys for the dict\n",
    "        for row in csv_reader:\n",
    "            d = {}\n",
    "            for k,v in row.items():\n",
    "                d[k]=v\n",
    "            if d['\\ufeffiso2']==inputcode2:\n",
    "                outputlongitude = d['longitude']\n",
    "                return outputlongitude\n",
    "        return False"
   ]
  },
  {
   "cell_type": "code",
   "execution_count": 10,
   "metadata": {},
   "outputs": [],
   "source": [
    "# test function dict_country print(dict_country('Switzerland'))"
   ]
  },
  {
   "cell_type": "code",
   "execution_count": 11,
   "metadata": {
    "scrolled": true
   },
   "outputs": [],
   "source": [
    "# # preprocess every file into country code\n",
    "# def add_country_code(Filename, newFile_path):\n",
    "#     df = pd.read_csv(Filename, header=None, sep=',')\n",
    "#     df['CountryCode']='none'\n",
    "#     # print(df.columns)\n",
    "#     print(df.shape)\n",
    "#     success_count = 0\n",
    "#     for row in df.iterrows():\n",
    "#         country_name = row[1][0]\n",
    "#     #     print(\"Country name:\", country_name)\n",
    "#         outputcode = dict_country_code(country_name)\n",
    "#         if(outputcode!=False):\n",
    "#             row[1]['CountryCode']=outputcode\n",
    "#             success_count = success_count + 1\n",
    "#     print(\"Successfully Converted:\", success_count)\n",
    "#     # print(df.head())\n",
    "#     df.to_csv(newFile_path,index=False,sep=',')"
   ]
  },
  {
   "cell_type": "code",
   "execution_count": 12,
   "metadata": {},
   "outputs": [],
   "source": [
    "# country_to_code(Age_limits_CSV_FILE_PATH, \"./dataprocessed/Age_limits_processed.csv\")\n",
    "# country_to_code(Public_use_CSV_FILE_PATH, \"./dataprocessed/Public_use_processed.csv\")"
   ]
  },
  {
   "cell_type": "code",
   "execution_count": 13,
   "metadata": {},
   "outputs": [],
   "source": [
    "# preprocess add region and religion to each row\n",
    "def add_code_region_religion(Filename, newFile_path):\n",
    "    df = pd.read_csv(Filename, header=None, sep=',')\n",
    "    df['CountryCode']='none'\n",
    "    df['Region']='none'\n",
    "    df['Religion']='none'\n",
    "#     print(df.shape)\n",
    "    success_count = 0\n",
    "    for row in df.iterrows():\n",
    "        country_name = row[1][0]\n",
    "        country_name = process_text(country_name)\n",
    "        outputcode = dict_country_code3(country_name)\n",
    "        outputregion = dict_country_region(country_name)\n",
    "        outputreligion = dict_country_religion(country_name)\n",
    "        if outputregion!=False and outputreligion!=False:\n",
    "            row[1][0]=country_name\n",
    "            row[1]['CountryCode']=outputcode\n",
    "            row[1]['Region']=outputregion\n",
    "            row[1]['Religion']=outputreligion\n",
    "            success_count = success_count + 1\n",
    "    print(\"Successfully Converted:\", success_count)\n",
    "    df.to_csv(newFile_path, index=False, header=None, sep=',')"
   ]
  },
  {
   "cell_type": "code",
   "execution_count": 14,
   "metadata": {},
   "outputs": [],
   "source": [
    "# preprocess countries location\n",
    "def process_countries(Filename, newFile_path):\n",
    "    df = pd.read_csv(Filename, header=None, sep=',', names=['Number', 'iso3', 'Country', 'Region', 'Religion'])\n",
    "    df['iso2']='iso2'\n",
    "    df['latitude']='latitude'\n",
    "    df['longitude']='longitude'\n",
    "#     print(df.shape)\n",
    "    success_count = 0\n",
    "    for row in df.iterrows():\n",
    "        country_iso3 = row[1][1]\n",
    "#         print(\"iso3\", country_iso3)\n",
    "        outputiso2 = dict_country_code2(country_iso3)\n",
    "#         print(\"outputiso2\", outputiso2)\n",
    "        outputlatitude = dict_country_latitude(outputiso2)\n",
    "        outputlongitude = dict_country_longitude(outputiso2)\n",
    "        if outputlatitude!=False and outputlongitude!=False:\n",
    "            row[1]['iso2']=outputiso2\n",
    "            row[1]['latitude']=outputlatitude\n",
    "            row[1]['longitude']=outputlongitude\n",
    "            success_count = success_count + 1\n",
    "    print(\"Successfully Converted:\", success_count)\n",
    "    df = df[['Number', 'Country', 'iso2', 'iso3', 'latitude', 'longitude', 'Region', 'Religion'] ]\n",
    "    df.to_csv(newFile_path, index=False, header=None, sep=',')"
   ]
  },
  {
   "cell_type": "code",
   "execution_count": 15,
   "metadata": {},
   "outputs": [],
   "source": [
    "def text_to_bool(Filename, new_file_path):\n",
    "    df = pd.read_csv(Filename, header=None, sep=',')\n",
    "    df.replace('Yes', '1', inplace=True)\n",
    "    df.replace('No', '0', inplace=True)\n",
    "    df.to_csv(new_file_path, header=None, index=False, sep=',')\n",
    "\n",
    "def text_to_number(Filename, new_file_path):\n",
    "    df = pd.read_csv(Filename, header=None, sep=',')\n",
    "    df.replace('ban', '1', inplace=True)\n",
    "    df.replace('partial restriction', '0.5', inplace=True)\n",
    "    df.replace('voluntary/self-restricted', '0.3', inplace=True)\n",
    "    df.replace('no restrictions', '0', inplace=True)\n",
    "    df.to_csv(new_file_path, header=None, index=False, sep=',')"
   ]
  },
  {
   "cell_type": "code",
   "execution_count": 16,
   "metadata": {},
   "outputs": [],
   "source": [
    "def preprocess_data_file(Filename, newFilename): # for Tax and Liscence\n",
    "    tempFilename = './dataprocessed/tempFile.csv'\n",
    "    text_to_bool(Filename, tempFilename)\n",
    "    leave_out_nodata(tempFilename, newFilename)\n",
    "    \n",
    "def preprocess_data_file_one(Filename, newFilename): # for Tax and Liscence\n",
    "    tempFilename = './dataprocessed/tempFile.csv'\n",
    "    text_to_bool(Filename, tempFilename)\n",
    "    leave_out_nodata_one(tempFilename, newFilename)\n",
    "\n",
    "def preprocess_public_use_data(Filename, newFilename): # for Tax and Liscence\n",
    "    tempFilename = './dataprocessed/tempFile.csv'\n",
    "    text_to_number(Filename, tempFilename)\n",
    "    leave_out_nodata_multi(tempFilename, newFilename)"
   ]
  },
  {
   "cell_type": "code",
   "execution_count": 17,
   "metadata": {},
   "outputs": [],
   "source": [
    "# add_code_region_religion(\"./dataprocessed/Age_limits_processed.csv\", \"./dataprocessed/Age_limits_processed.csv\")"
   ]
  },
  {
   "cell_type": "markdown",
   "metadata": {},
   "source": [
    "## Process 4 simpler dataset: Tax, Liscence, Community_action, Health_warning \n",
    "\n",
    "1. Turning Yes/No to 1/0\n",
    "2. Leave out \"No data\" rows"
   ]
  },
  {
   "cell_type": "code",
   "execution_count": 18,
   "metadata": {},
   "outputs": [
    {
     "ename": "FileNotFoundError",
     "evalue": "[Errno 2] File b'./projectdata/Tax.csv' does not exist: b'./projectdata/Tax.csv'",
     "output_type": "error",
     "traceback": [
      "\u001b[0;31m---------------------------------------------------------------------------\u001b[0m",
      "\u001b[0;31mFileNotFoundError\u001b[0m                         Traceback (most recent call last)",
      "\u001b[0;32m<ipython-input-18-8b8548fc48c4>\u001b[0m in \u001b[0;36m<module>\u001b[0;34m\u001b[0m\n\u001b[0;32m----> 1\u001b[0;31m \u001b[0mpreprocess_data_file\u001b[0m\u001b[0;34m(\u001b[0m\u001b[0mTax_CSV_FILE_PATH\u001b[0m\u001b[0;34m,\u001b[0m \u001b[0;34m\"./dataprocessed/Tax_processed.csv\"\u001b[0m\u001b[0;34m)\u001b[0m\u001b[0;34m\u001b[0m\u001b[0;34m\u001b[0m\u001b[0m\n\u001b[0m\u001b[1;32m      2\u001b[0m \u001b[0mpreprocess_data_file\u001b[0m\u001b[0;34m(\u001b[0m\u001b[0mLiscence_production_CSV_FILE_PATH\u001b[0m\u001b[0;34m,\u001b[0m \u001b[0;34m\"./dataprocessed/Liscence_production_processed.csv\"\u001b[0m\u001b[0;34m)\u001b[0m\u001b[0;34m\u001b[0m\u001b[0;34m\u001b[0m\u001b[0m\n\u001b[1;32m      3\u001b[0m \u001b[0mpreprocess_data_file\u001b[0m\u001b[0;34m(\u001b[0m\u001b[0mLiscence_retail_CSV_FILE_PATH\u001b[0m\u001b[0;34m,\u001b[0m \u001b[0;34m\"./dataprocessed/Liscence_retail_processed.csv\"\u001b[0m\u001b[0;34m)\u001b[0m\u001b[0;34m\u001b[0m\u001b[0;34m\u001b[0m\u001b[0m\n\u001b[1;32m      4\u001b[0m \u001b[0mpreprocess_data_file\u001b[0m\u001b[0;34m(\u001b[0m\u001b[0mCommunity_actions_CSV_FILE_PATH\u001b[0m\u001b[0;34m,\u001b[0m \u001b[0;34m\"./dataprocessed/Community_actions_processed.csv\"\u001b[0m\u001b[0;34m)\u001b[0m\u001b[0;34m\u001b[0m\u001b[0;34m\u001b[0m\u001b[0m\n\u001b[1;32m      5\u001b[0m \u001b[0mpreprocess_data_file_one\u001b[0m\u001b[0;34m(\u001b[0m\u001b[0mHealth_warning_CSV_FILE_PATH\u001b[0m\u001b[0;34m,\u001b[0m \u001b[0;34m\"./dataprocessed/Health_warning_processed.csv\"\u001b[0m\u001b[0;34m)\u001b[0m\u001b[0;34m\u001b[0m\u001b[0;34m\u001b[0m\u001b[0m\n",
      "\u001b[0;32m<ipython-input-16-b7173e5a5eb3>\u001b[0m in \u001b[0;36mpreprocess_data_file\u001b[0;34m(Filename, newFilename)\u001b[0m\n\u001b[1;32m      1\u001b[0m \u001b[0;32mdef\u001b[0m \u001b[0mpreprocess_data_file\u001b[0m\u001b[0;34m(\u001b[0m\u001b[0mFilename\u001b[0m\u001b[0;34m,\u001b[0m \u001b[0mnewFilename\u001b[0m\u001b[0;34m)\u001b[0m\u001b[0;34m:\u001b[0m \u001b[0;31m# for Tax and Liscence\u001b[0m\u001b[0;34m\u001b[0m\u001b[0;34m\u001b[0m\u001b[0m\n\u001b[1;32m      2\u001b[0m     \u001b[0mtempFilename\u001b[0m \u001b[0;34m=\u001b[0m \u001b[0;34m'./dataprocessed/tempFile.csv'\u001b[0m\u001b[0;34m\u001b[0m\u001b[0;34m\u001b[0m\u001b[0m\n\u001b[0;32m----> 3\u001b[0;31m     \u001b[0mtext_to_bool\u001b[0m\u001b[0;34m(\u001b[0m\u001b[0mFilename\u001b[0m\u001b[0;34m,\u001b[0m \u001b[0mtempFilename\u001b[0m\u001b[0;34m)\u001b[0m\u001b[0;34m\u001b[0m\u001b[0;34m\u001b[0m\u001b[0m\n\u001b[0m\u001b[1;32m      4\u001b[0m     \u001b[0mleave_out_nodata\u001b[0m\u001b[0;34m(\u001b[0m\u001b[0mtempFilename\u001b[0m\u001b[0;34m,\u001b[0m \u001b[0mnewFilename\u001b[0m\u001b[0;34m)\u001b[0m\u001b[0;34m\u001b[0m\u001b[0;34m\u001b[0m\u001b[0m\n\u001b[1;32m      5\u001b[0m \u001b[0;34m\u001b[0m\u001b[0m\n",
      "\u001b[0;32m<ipython-input-15-3f3c5f9ff101>\u001b[0m in \u001b[0;36mtext_to_bool\u001b[0;34m(Filename, new_file_path)\u001b[0m\n\u001b[1;32m      1\u001b[0m \u001b[0;32mdef\u001b[0m \u001b[0mtext_to_bool\u001b[0m\u001b[0;34m(\u001b[0m\u001b[0mFilename\u001b[0m\u001b[0;34m,\u001b[0m \u001b[0mnew_file_path\u001b[0m\u001b[0;34m)\u001b[0m\u001b[0;34m:\u001b[0m\u001b[0;34m\u001b[0m\u001b[0;34m\u001b[0m\u001b[0m\n\u001b[0;32m----> 2\u001b[0;31m     \u001b[0mdf\u001b[0m \u001b[0;34m=\u001b[0m \u001b[0mpd\u001b[0m\u001b[0;34m.\u001b[0m\u001b[0mread_csv\u001b[0m\u001b[0;34m(\u001b[0m\u001b[0mFilename\u001b[0m\u001b[0;34m,\u001b[0m \u001b[0mheader\u001b[0m\u001b[0;34m=\u001b[0m\u001b[0;32mNone\u001b[0m\u001b[0;34m,\u001b[0m \u001b[0msep\u001b[0m\u001b[0;34m=\u001b[0m\u001b[0;34m','\u001b[0m\u001b[0;34m)\u001b[0m\u001b[0;34m\u001b[0m\u001b[0;34m\u001b[0m\u001b[0m\n\u001b[0m\u001b[1;32m      3\u001b[0m     \u001b[0mdf\u001b[0m\u001b[0;34m.\u001b[0m\u001b[0mreplace\u001b[0m\u001b[0;34m(\u001b[0m\u001b[0;34m'Yes'\u001b[0m\u001b[0;34m,\u001b[0m \u001b[0;34m'1'\u001b[0m\u001b[0;34m,\u001b[0m \u001b[0minplace\u001b[0m\u001b[0;34m=\u001b[0m\u001b[0;32mTrue\u001b[0m\u001b[0;34m)\u001b[0m\u001b[0;34m\u001b[0m\u001b[0;34m\u001b[0m\u001b[0m\n\u001b[1;32m      4\u001b[0m     \u001b[0mdf\u001b[0m\u001b[0;34m.\u001b[0m\u001b[0mreplace\u001b[0m\u001b[0;34m(\u001b[0m\u001b[0;34m'No'\u001b[0m\u001b[0;34m,\u001b[0m \u001b[0;34m'0'\u001b[0m\u001b[0;34m,\u001b[0m \u001b[0minplace\u001b[0m\u001b[0;34m=\u001b[0m\u001b[0;32mTrue\u001b[0m\u001b[0;34m)\u001b[0m\u001b[0;34m\u001b[0m\u001b[0;34m\u001b[0m\u001b[0m\n\u001b[1;32m      5\u001b[0m     \u001b[0mdf\u001b[0m\u001b[0;34m.\u001b[0m\u001b[0mto_csv\u001b[0m\u001b[0;34m(\u001b[0m\u001b[0mnew_file_path\u001b[0m\u001b[0;34m,\u001b[0m \u001b[0mheader\u001b[0m\u001b[0;34m=\u001b[0m\u001b[0;32mNone\u001b[0m\u001b[0;34m,\u001b[0m \u001b[0mindex\u001b[0m\u001b[0;34m=\u001b[0m\u001b[0;32mFalse\u001b[0m\u001b[0;34m,\u001b[0m \u001b[0msep\u001b[0m\u001b[0;34m=\u001b[0m\u001b[0;34m','\u001b[0m\u001b[0;34m)\u001b[0m\u001b[0;34m\u001b[0m\u001b[0;34m\u001b[0m\u001b[0m\n",
      "\u001b[0;32m~/anaconda3/envs/ada/lib/python3.7/site-packages/pandas/io/parsers.py\u001b[0m in \u001b[0;36mparser_f\u001b[0;34m(filepath_or_buffer, sep, delimiter, header, names, index_col, usecols, squeeze, prefix, mangle_dupe_cols, dtype, engine, converters, true_values, false_values, skipinitialspace, skiprows, skipfooter, nrows, na_values, keep_default_na, na_filter, verbose, skip_blank_lines, parse_dates, infer_datetime_format, keep_date_col, date_parser, dayfirst, cache_dates, iterator, chunksize, compression, thousands, decimal, lineterminator, quotechar, quoting, doublequote, escapechar, comment, encoding, dialect, error_bad_lines, warn_bad_lines, delim_whitespace, low_memory, memory_map, float_precision)\u001b[0m\n\u001b[1;32m    683\u001b[0m         )\n\u001b[1;32m    684\u001b[0m \u001b[0;34m\u001b[0m\u001b[0m\n\u001b[0;32m--> 685\u001b[0;31m         \u001b[0;32mreturn\u001b[0m \u001b[0m_read\u001b[0m\u001b[0;34m(\u001b[0m\u001b[0mfilepath_or_buffer\u001b[0m\u001b[0;34m,\u001b[0m \u001b[0mkwds\u001b[0m\u001b[0;34m)\u001b[0m\u001b[0;34m\u001b[0m\u001b[0;34m\u001b[0m\u001b[0m\n\u001b[0m\u001b[1;32m    686\u001b[0m \u001b[0;34m\u001b[0m\u001b[0m\n\u001b[1;32m    687\u001b[0m     \u001b[0mparser_f\u001b[0m\u001b[0;34m.\u001b[0m\u001b[0m__name__\u001b[0m \u001b[0;34m=\u001b[0m \u001b[0mname\u001b[0m\u001b[0;34m\u001b[0m\u001b[0;34m\u001b[0m\u001b[0m\n",
      "\u001b[0;32m~/anaconda3/envs/ada/lib/python3.7/site-packages/pandas/io/parsers.py\u001b[0m in \u001b[0;36m_read\u001b[0;34m(filepath_or_buffer, kwds)\u001b[0m\n\u001b[1;32m    455\u001b[0m \u001b[0;34m\u001b[0m\u001b[0m\n\u001b[1;32m    456\u001b[0m     \u001b[0;31m# Create the parser.\u001b[0m\u001b[0;34m\u001b[0m\u001b[0;34m\u001b[0m\u001b[0;34m\u001b[0m\u001b[0m\n\u001b[0;32m--> 457\u001b[0;31m     \u001b[0mparser\u001b[0m \u001b[0;34m=\u001b[0m \u001b[0mTextFileReader\u001b[0m\u001b[0;34m(\u001b[0m\u001b[0mfp_or_buf\u001b[0m\u001b[0;34m,\u001b[0m \u001b[0;34m**\u001b[0m\u001b[0mkwds\u001b[0m\u001b[0;34m)\u001b[0m\u001b[0;34m\u001b[0m\u001b[0;34m\u001b[0m\u001b[0m\n\u001b[0m\u001b[1;32m    458\u001b[0m \u001b[0;34m\u001b[0m\u001b[0m\n\u001b[1;32m    459\u001b[0m     \u001b[0;32mif\u001b[0m \u001b[0mchunksize\u001b[0m \u001b[0;32mor\u001b[0m \u001b[0miterator\u001b[0m\u001b[0;34m:\u001b[0m\u001b[0;34m\u001b[0m\u001b[0;34m\u001b[0m\u001b[0m\n",
      "\u001b[0;32m~/anaconda3/envs/ada/lib/python3.7/site-packages/pandas/io/parsers.py\u001b[0m in \u001b[0;36m__init__\u001b[0;34m(self, f, engine, **kwds)\u001b[0m\n\u001b[1;32m    893\u001b[0m             \u001b[0mself\u001b[0m\u001b[0;34m.\u001b[0m\u001b[0moptions\u001b[0m\u001b[0;34m[\u001b[0m\u001b[0;34m\"has_index_names\"\u001b[0m\u001b[0;34m]\u001b[0m \u001b[0;34m=\u001b[0m \u001b[0mkwds\u001b[0m\u001b[0;34m[\u001b[0m\u001b[0;34m\"has_index_names\"\u001b[0m\u001b[0;34m]\u001b[0m\u001b[0;34m\u001b[0m\u001b[0;34m\u001b[0m\u001b[0m\n\u001b[1;32m    894\u001b[0m \u001b[0;34m\u001b[0m\u001b[0m\n\u001b[0;32m--> 895\u001b[0;31m         \u001b[0mself\u001b[0m\u001b[0;34m.\u001b[0m\u001b[0m_make_engine\u001b[0m\u001b[0;34m(\u001b[0m\u001b[0mself\u001b[0m\u001b[0;34m.\u001b[0m\u001b[0mengine\u001b[0m\u001b[0;34m)\u001b[0m\u001b[0;34m\u001b[0m\u001b[0;34m\u001b[0m\u001b[0m\n\u001b[0m\u001b[1;32m    896\u001b[0m \u001b[0;34m\u001b[0m\u001b[0m\n\u001b[1;32m    897\u001b[0m     \u001b[0;32mdef\u001b[0m \u001b[0mclose\u001b[0m\u001b[0;34m(\u001b[0m\u001b[0mself\u001b[0m\u001b[0;34m)\u001b[0m\u001b[0;34m:\u001b[0m\u001b[0;34m\u001b[0m\u001b[0;34m\u001b[0m\u001b[0m\n",
      "\u001b[0;32m~/anaconda3/envs/ada/lib/python3.7/site-packages/pandas/io/parsers.py\u001b[0m in \u001b[0;36m_make_engine\u001b[0;34m(self, engine)\u001b[0m\n\u001b[1;32m   1133\u001b[0m     \u001b[0;32mdef\u001b[0m \u001b[0m_make_engine\u001b[0m\u001b[0;34m(\u001b[0m\u001b[0mself\u001b[0m\u001b[0;34m,\u001b[0m \u001b[0mengine\u001b[0m\u001b[0;34m=\u001b[0m\u001b[0;34m\"c\"\u001b[0m\u001b[0;34m)\u001b[0m\u001b[0;34m:\u001b[0m\u001b[0;34m\u001b[0m\u001b[0;34m\u001b[0m\u001b[0m\n\u001b[1;32m   1134\u001b[0m         \u001b[0;32mif\u001b[0m \u001b[0mengine\u001b[0m \u001b[0;34m==\u001b[0m \u001b[0;34m\"c\"\u001b[0m\u001b[0;34m:\u001b[0m\u001b[0;34m\u001b[0m\u001b[0;34m\u001b[0m\u001b[0m\n\u001b[0;32m-> 1135\u001b[0;31m             \u001b[0mself\u001b[0m\u001b[0;34m.\u001b[0m\u001b[0m_engine\u001b[0m \u001b[0;34m=\u001b[0m \u001b[0mCParserWrapper\u001b[0m\u001b[0;34m(\u001b[0m\u001b[0mself\u001b[0m\u001b[0;34m.\u001b[0m\u001b[0mf\u001b[0m\u001b[0;34m,\u001b[0m \u001b[0;34m**\u001b[0m\u001b[0mself\u001b[0m\u001b[0;34m.\u001b[0m\u001b[0moptions\u001b[0m\u001b[0;34m)\u001b[0m\u001b[0;34m\u001b[0m\u001b[0;34m\u001b[0m\u001b[0m\n\u001b[0m\u001b[1;32m   1136\u001b[0m         \u001b[0;32melse\u001b[0m\u001b[0;34m:\u001b[0m\u001b[0;34m\u001b[0m\u001b[0;34m\u001b[0m\u001b[0m\n\u001b[1;32m   1137\u001b[0m             \u001b[0;32mif\u001b[0m \u001b[0mengine\u001b[0m \u001b[0;34m==\u001b[0m \u001b[0;34m\"python\"\u001b[0m\u001b[0;34m:\u001b[0m\u001b[0;34m\u001b[0m\u001b[0;34m\u001b[0m\u001b[0m\n",
      "\u001b[0;32m~/anaconda3/envs/ada/lib/python3.7/site-packages/pandas/io/parsers.py\u001b[0m in \u001b[0;36m__init__\u001b[0;34m(self, src, **kwds)\u001b[0m\n\u001b[1;32m   1915\u001b[0m         \u001b[0mkwds\u001b[0m\u001b[0;34m[\u001b[0m\u001b[0;34m\"usecols\"\u001b[0m\u001b[0;34m]\u001b[0m \u001b[0;34m=\u001b[0m \u001b[0mself\u001b[0m\u001b[0;34m.\u001b[0m\u001b[0musecols\u001b[0m\u001b[0;34m\u001b[0m\u001b[0;34m\u001b[0m\u001b[0m\n\u001b[1;32m   1916\u001b[0m \u001b[0;34m\u001b[0m\u001b[0m\n\u001b[0;32m-> 1917\u001b[0;31m         \u001b[0mself\u001b[0m\u001b[0;34m.\u001b[0m\u001b[0m_reader\u001b[0m \u001b[0;34m=\u001b[0m \u001b[0mparsers\u001b[0m\u001b[0;34m.\u001b[0m\u001b[0mTextReader\u001b[0m\u001b[0;34m(\u001b[0m\u001b[0msrc\u001b[0m\u001b[0;34m,\u001b[0m \u001b[0;34m**\u001b[0m\u001b[0mkwds\u001b[0m\u001b[0;34m)\u001b[0m\u001b[0;34m\u001b[0m\u001b[0;34m\u001b[0m\u001b[0m\n\u001b[0m\u001b[1;32m   1918\u001b[0m         \u001b[0mself\u001b[0m\u001b[0;34m.\u001b[0m\u001b[0munnamed_cols\u001b[0m \u001b[0;34m=\u001b[0m \u001b[0mself\u001b[0m\u001b[0;34m.\u001b[0m\u001b[0m_reader\u001b[0m\u001b[0;34m.\u001b[0m\u001b[0munnamed_cols\u001b[0m\u001b[0;34m\u001b[0m\u001b[0;34m\u001b[0m\u001b[0m\n\u001b[1;32m   1919\u001b[0m \u001b[0;34m\u001b[0m\u001b[0m\n",
      "\u001b[0;32mpandas/_libs/parsers.pyx\u001b[0m in \u001b[0;36mpandas._libs.parsers.TextReader.__cinit__\u001b[0;34m()\u001b[0m\n",
      "\u001b[0;32mpandas/_libs/parsers.pyx\u001b[0m in \u001b[0;36mpandas._libs.parsers.TextReader._setup_parser_source\u001b[0;34m()\u001b[0m\n",
      "\u001b[0;31mFileNotFoundError\u001b[0m: [Errno 2] File b'./projectdata/Tax.csv' does not exist: b'./projectdata/Tax.csv'"
     ]
    }
   ],
   "source": [
    "preprocess_data_file(Tax_CSV_FILE_PATH, \"./dataprocessed/Tax_processed.csv\")\n",
    "preprocess_data_file(Liscence_production_CSV_FILE_PATH, \"./dataprocessed/Liscence_production_processed.csv\")\n",
    "preprocess_data_file(Liscence_retail_CSV_FILE_PATH, \"./dataprocessed/Liscence_retail_processed.csv\")\n",
    "preprocess_data_file(Community_actions_CSV_FILE_PATH, \"./dataprocessed/Community_actions_processed.csv\")\n",
    "preprocess_data_file_one(Health_warning_CSV_FILE_PATH, \"./dataprocessed/Health_warning_processed.csv\")"
   ]
  },
  {
   "cell_type": "markdown",
   "metadata": {},
   "source": [
    "# Process public_use dataset, change text to valuse\n",
    "\n",
    "\n",
    "ban                                               1\n",
    "\n",
    "partial restriction                             0.5\n",
    "\n",
    "voluntary/self-restricted                       0.3 #parameter that can be changed\n",
    "\n",
    "no restrictions                                  0\n",
    "\n",
    "No data                                          "
   ]
  },
  {
   "cell_type": "code",
   "execution_count": null,
   "metadata": {},
   "outputs": [],
   "source": [
    "b = pd.read_csv(Public_use_CSV_FILE_PATH, header=None, sep=',')\n",
    "b = pd.DataFrame(b)\n",
    "for i in range(2, 4):\n",
    "    print(\"Value_counts for column\", i, \"\\n\")\n",
    "    print(b[i].value_counts())"
   ]
  },
  {
   "cell_type": "code",
   "execution_count": null,
   "metadata": {},
   "outputs": [],
   "source": [
    "preprocess_public_use_data(Public_use_CSV_FILE_PATH, \"./dataprocessed/Public_use_processed.csv\")"
   ]
  },
  {
   "cell_type": "markdown",
   "metadata": {},
   "source": [
    "# Process age_limit dataset, change text to valuse\n",
    "\n",
    "ban                                               1\n",
    "\n",
    "partial restriction                             0.5\n",
    "\n",
    "voluntary/self-restricted                       0.3 #parameter that can be changed\n",
    "\n",
    "no restrictions                                  0\n",
    "\n",
    "No data       "
   ]
  },
  {
   "cell_type": "code",
   "execution_count": null,
   "metadata": {},
   "outputs": [],
   "source": [
    "b = pd.read_csv(Age_limits_CSV_FILE_PATH, header=None, sep=',')\n",
    "b = pd.DataFrame(b)\n",
    "b[3].value_counts()"
   ]
  },
  {
   "cell_type": "code",
   "execution_count": null,
   "metadata": {},
   "outputs": [],
   "source": [
    "add_code_region_religion(Age_limits_CSV_FILE_PATH, \"./dataprocessed/Age_limits_processed.csv\")"
   ]
  },
  {
   "cell_type": "markdown",
   "metadata": {},
   "source": [
    "# 2. DataSets for Specific year 2016"
   ]
  },
  {
   "cell_type": "markdown",
   "metadata": {},
   "source": [
    "## 2.1 DataSets Overview"
   ]
  },
  {
   "cell_type": "markdown",
   "metadata": {},
   "source": [
    "**DataSet 1. Pure alcohol consumption, litres per capita, age 15+**\n",
    "\n",
    "* Indicator full name: Pure alcohol consumption, litres per capita, age 15+\n",
    "\n",
    "* Unit: litres per capita\n",
    "\n",
    "* Dimensions:\n",
    "\n",
    "* Country (COUNTRY) \n",
    "\n",
    "* Supranational group of countries (COUNTRY_GRP)\n",
    "\n",
    "* Sex (SEX)\n",
    "\n",
    "* Year of measure (YEAR)\n",
    "\n",
    "* Years data is available: 1970—2015"
   ]
  },
  {
   "cell_type": "code",
   "execution_count": null,
   "metadata": {},
   "outputs": [],
   "source": [
    "from IPython.core.display import display, HTML\n",
    "display(HTML('<iframe frameborder=\"0\" class=\"whoWidget\" onload=\"(function (){if(!document.getElementById(\\'ifr\\')){var s=document.createElement(\\'script\\');s.type=\\'text/javascript\\';s.id=\\'ifr\\';s.src=\\'https://gateway.euro.who.int/Scripts/libs/iframeResizer/iframeResizer.min.js\\';document.getElementsByTagName(\\'head\\')[0].appendChild(s);}})();\" src=\"https://gateway.euro.who.int/en/indicators/visualization-embed/?indId=18314&visId=19443\" style=\"width: 100%;\"></iframe>'))"
   ]
  },
  {
   "cell_type": "markdown",
   "metadata": {},
   "source": [
    "**DataSet 2.Age limits - Alcohol service/sales by country**\n",
    "\n",
    "* Data type: Count\n",
    "* Topic: Risk factors\n",
    "* Rationale: One first needs to be aware of a country's laws and policies regarding alcohol before one can establish whether these influence the level and patterns of alcohol consumption in the population. Thus, the legal status of alcohol production, distribution and consumption is an important indicator.\n",
    "* Definition:The legal age limit for on-premise service of alcoholic beverages is defined as the age at which a person can be served alcoholic beverages on premises in a country, i.e. alcoholic beverages cannot be served to a person under this age. The legal age limit for off-premise sales of alcoholic beverages is defined as the age at which a person can be sold alcoholic beverages off premises in a country, i.e. alcoholic beverages cannot be sold to a person under this age.\n",
    "* Disaggregation: Alcoholic beverage type\n",
    "* Method of estimation: The national authorities of a given country respond to the Global Survey on Alcohol and Health.\n",
    "* Expected frequency of data dissemination:Periodic\n",
    "* Expected frequency of data collection:Periodic\n",
    "\n",
    "Short name: Age limits on-/off-premise sales\n",
    "\n",
    "Short name:Age limits on-/off-premise service\n",
    "\n",
    "Total countries:194"
   ]
  },
  {
   "cell_type": "code",
   "execution_count": null,
   "metadata": {},
   "outputs": [],
   "source": [
    "from IPython.core.display import display, HTML\n",
    "display(HTML('<iframe id=\\'rightframe\\' name=\\'leftiframe\\' width=\"70%\" src=\\'http://apps.who.int/gho/data/node.main.A1144\\'></iframe><br>'))"
   ]
  },
  {
   "cell_type": "markdown",
   "metadata": {},
   "source": [
    "**DataSet 3.License requirement for alcohol production and retail sales**\n",
    "\n",
    "* Short name: Licensing\n",
    "* Data type: Categorical\n",
    "* Topic: Risk factors\n",
    "* Rationale: One first needs to be aware of a country's laws and policies regarding alcohol before one can establish whether these influence the level and patterns of alcohol consumption in the population. Thus, the legal status of alcohol production, distribution and consumption is an important indicator.\n",
    "* Definition: Licensing is defined as the partial government control of production, and sale, wholesale and distribution of alcoholic beverages which requires licensing, as well as of import and export.\n",
    "* Disaggregation: Alcoholic beverage type\n",
    "* Method of estimation: The national authorities of a given country respond to the Global Survey on Alcohol and Health.\n",
    "* Expected frequency of data dissemination:Periodic\n",
    "* Expected frequency of data collection:Periodic\n",
    "\n",
    "Retail sales by country"
   ]
  },
  {
   "cell_type": "code",
   "execution_count": null,
   "metadata": {},
   "outputs": [],
   "source": [
    "display(HTML('<iframe id=\\'rightframe\\' name=\\'leftiframe\\' width=\"70%\" src=\\'http://apps.who.int/gho/data/node.main.A1179\\'></iframe><br>'))"
   ]
  },
  {
   "cell_type": "markdown",
   "metadata": {},
   "source": [
    "Production by country"
   ]
  },
  {
   "cell_type": "code",
   "execution_count": null,
   "metadata": {},
   "outputs": [],
   "source": [
    "display(HTML('<iframe id=\\'rightframe\\' name=\\'leftiframe\\' width=\"70%\" src=\\'http://apps.who.int/gho/data/node.main.A1178\\'></iframe><br>'))"
   ]
  },
  {
   "cell_type": "markdown",
   "metadata": {},
   "source": [
    "## 2.1 Age-limit v.s. Pure alcohol consumption"
   ]
  },
  {
   "cell_type": "code",
   "execution_count": null,
   "metadata": {},
   "outputs": [],
   "source": [
    "df = pd.read_csv(\"./dataprocessed/Age_limits_processed.csv\", names=['Country', '2015-2017', '2009-2011', 'Age limits Beer'])\n",
    "df.head(10)"
   ]
  },
  {
   "cell_type": "markdown",
   "metadata": {},
   "source": [
    "## 2.2.Plot consumptions according to regions"
   ]
  },
  {
   "cell_type": "markdown",
   "metadata": {},
   "source": [
    "### 2.2.1Merge dataset with Regions, Religions and Locations(Latitude, Longitude)"
   ]
  },
  {
   "cell_type": "code",
   "execution_count": null,
   "metadata": {},
   "outputs": [],
   "source": [
    "df_country = pd.read_csv(\"./dataprocessed/Country_list_final.csv\", header=None, sep=',')\n",
    "df_country.head(10)"
   ]
  },
  {
   "cell_type": "code",
   "execution_count": null,
   "metadata": {},
   "outputs": [],
   "source": [
    "df_latitude = pd.read_csv(\"./dataprocessed/Country_location.csv\", header=None, sep=',')\n",
    "df_latitude.head(10)"
   ]
  },
  {
   "cell_type": "code",
   "execution_count": null,
   "metadata": {},
   "outputs": [],
   "source": [
    "df_country_code = pd.read_csv(\"./projectdata/deal_with_countries/iso_countries_list.csv\", header=None, sep=',')\n",
    "df_country_code.head(10)"
   ]
  },
  {
   "cell_type": "code",
   "execution_count": null,
   "metadata": {},
   "outputs": [],
   "source": [
    "# Add latitude and longitude into country list\n",
    "process_countries(Countries_list_PATH, './dataprocessed/countries_location_final.csv')\n",
    "df_country_location = pd.read_csv('./dataprocessed/countries_location_final.csv', header=None, sep=',', names=['Number', 'Country', 'iso2', 'iso3', 'latitude', 'longitude', 'Region', 'Religion'])\n",
    "df_country_location.head(10)"
   ]
  },
  {
   "cell_type": "markdown",
   "metadata": {},
   "source": [
    "### 2.2.2 Merge Country list (Country, Region, Religion, Location) with Consumption"
   ]
  },
  {
   "cell_type": "markdown",
   "metadata": {},
   "source": [
    "#### Preprocess consumption file's country name, Capitalized"
   ]
  },
  {
   "cell_type": "code",
   "execution_count": null,
   "metadata": {},
   "outputs": [],
   "source": [
    "process_country_name(Consumption_CSV_FILE_PATH, './projectdata/Consumption_namecleaned.csv', 0)"
   ]
  },
  {
   "cell_type": "markdown",
   "metadata": {},
   "source": [
    "#### Split consumption value and 95%CI "
   ]
  },
  {
   "cell_type": "code",
   "execution_count": null,
   "metadata": {},
   "outputs": [],
   "source": [
    "# Preprocess consumption file's\n",
    "df_consumption = pd.read_csv(\"./projectdata/Consumption_namecleaned.csv\", header=0, sep=',', names=['Country', '2015-2017', '2009-2011'])\n",
    "df_consumption.head()\n",
    "df_consumption['Alcohol_per_capita_2015-2017'], df_consumption['Alcohol_per_capita_2015-2017_95%CI'] = df_consumption['2015-2017'].str.split('[', 1).str\n",
    "df_consumption['Alcohol_per_capita_2009-2011'], df_consumption['Alcohol_per_capita_2009-2011_95%CI'] = df_consumption['2009-2011'].str.split('[', 1).str\n",
    "df_consumption = df_consumption[['Country', 'Alcohol_per_capita_2015-2017', 'Alcohol_per_capita_2015-2017_95%CI', 'Alcohol_per_capita_2009-2011', 'Alcohol_per_capita_2009-2011_95%CI']]\n",
    "for row in df_consumption.iterrows():\n",
    "    if isinstance(row[1][2], str):\n",
    "        row[1][2] = row[1][2].replace(\"]\", \"\")\n",
    "    if isinstance(row[1][4], str):\n",
    "        row[1][4] = row[1][4].replace(\"]\", \"\")\n",
    "df_consumption = df_consumption[1:]\n",
    "df_consumption.to_csv(\"./projectdata/Consumption_final.csv\", index=False, header=None, sep=',')\n",
    "df_consumption.head(10)"
   ]
  },
  {
   "cell_type": "code",
   "execution_count": null,
   "metadata": {},
   "outputs": [],
   "source": [
    "finaldf = pd.merge(df_country_location, df_consumption, on='Country')\n",
    "finaldf.to_csv(\"./projectdata/Countries_finaldf.csv\", index=False, sep=',', header=['Number', 'Country', 'iso2', 'iso_a3', 'latitude', 'longitude', 'Region', 'Religion', 'Alcohol_per_capita_2015-2017', 'Alcohol_per_capita_2015-2017_95%CI', 'Alcohol_per_capita_2009-2011', 'Alcohol_per_capita_2009-2011_95%CI'])\n",
    "finaldf.head(10)"
   ]
  },
  {
   "cell_type": "markdown",
   "metadata": {},
   "source": [
    "## Draw Maps"
   ]
  },
  {
   "cell_type": "code",
   "execution_count": null,
   "metadata": {},
   "outputs": [],
   "source": [
    "%matplotlib inline\n",
    "import matplotlib.pylab as pylab\n",
    "pylab.rcParams['figure.figsize'] = 18, 18\n",
    "world = geopandas.read_file(geopandas.datasets.get_path('naturalearth_lowres'))\n",
    "fig, ax = plt.subplots(1, 1)\n",
    "ax.set_title(\"Population by Country\", fontsize=20)\n",
    "world.plot(column='pop_est',\n",
    "           ax=ax,\n",
    "           legend=True,\n",
    "           legend_kwds={'label': \"Population by Country\",'orientation': \"horizontal\"})\n",
    "#            cmap='OrRd',\n",
    "#            scheme='quantiles')"
   ]
  },
  {
   "cell_type": "code",
   "execution_count": null,
   "metadata": {},
   "outputs": [],
   "source": [
    "world.head(5)"
   ]
  },
  {
   "cell_type": "code",
   "execution_count": null,
   "metadata": {
    "scrolled": true
   },
   "outputs": [],
   "source": [
    "'''Merging world shape data with our alchohol consumption data'''\n",
    "finaldf = finaldf.rename(columns={'iso3':'iso_a3'})\n",
    "world = world.merge(finaldf, on='iso_a3')\n",
    "world.head(5)"
   ]
  },
  {
   "cell_type": "code",
   "execution_count": null,
   "metadata": {},
   "outputs": [],
   "source": [
    "world.columns.values.tolist()"
   ]
  },
  {
   "cell_type": "code",
   "execution_count": null,
   "metadata": {},
   "outputs": [],
   "source": [
    "world = world.rename(columns={'Alcohol_per_capita_2015-2017':'Alcohol_com1'})\n",
    "world = world.rename(columns={'Alcohol_per_capita_2009-2011':'Alcohol_com2'})\n",
    "world['Alcohol_com1'] = world.Alcohol_com1\n",
    "world['Alcohol_com2'] = world.Alcohol_com2\n",
    "world['iso_a3'] = world.iso_a3\n",
    "world['Region'] = world.Region\n",
    "world['Religion'] = world.Religion\n",
    "world.columns.values.tolist()\n",
    "world['iso_a3'].head(10)\n",
    "world['Alcohol_com1'].max()\n",
    "world['Alcohol_com1'].min()"
   ]
  },
  {
   "cell_type": "code",
   "execution_count": null,
   "metadata": {},
   "outputs": [],
   "source": [
    "import matplotlib.pylab as pylab\n",
    "pylab.rcParams['figure.figsize'] = 18, 18\n",
    "fig, ax = plt.subplots(1, 1)\n",
    "ax.set_title(\"Avg Alcohol consumption 2015-2017 by Country\", fontsize=20)\n",
    "world.plot(column='Alcohol_com1',\n",
    "           ax=ax,\n",
    "           legend=True,\n",
    "#            legend_kwds={'labels': \"Avg Alcohol_2015-2017 by Country\",'legend': \"horizontal\"})\n",
    "           cmap='OrRd',\n",
    "           scheme='quantiles')"
   ]
  },
  {
   "cell_type": "code",
   "execution_count": null,
   "metadata": {},
   "outputs": [],
   "source": [
    "import matplotlib.pylab as pylab\n",
    "pylab.rcParams['figure.figsize'] = 18, 18\n",
    "fig, ax = plt.subplots(1, 1)\n",
    "ax.set_title(\"Avg Alcohol consumption 2009-2011 by Country\", fontsize=20)\n",
    "world.plot(column='Alcohol_com2',\n",
    "           ax=ax,\n",
    "           legend=True,\n",
    "#            legend_kwds={'labels': \"Avg Alcohol_2015-2017 by Country\",'legend': \"horizontal\"})\n",
    "           cmap='OrRd',\n",
    "           scheme='quantiles')"
   ]
  },
  {
   "cell_type": "markdown",
   "metadata": {},
   "source": [
    "Get those countries that experienced dramatically Alcohol consumption changes between two time periods"
   ]
  },
  {
   "cell_type": "code",
   "execution_count": null,
   "metadata": {},
   "outputs": [],
   "source": [
    "from interval import Interval\n",
    "zoom_1 = Interval(0.0, 8.0, higher_closed=False)\n",
    "zoom_2 = Interval(8.0, 23.0, higher_closed=False)\n",
    "zoom_3 = Interval(23.0, 45.0, higher_closed=False)\n",
    "zoom_4 = Interval(45.0, 66.0, higher_closed=False)\n",
    "zoom_5 = Interval(66.0, 86.0)\n",
    "intervals = [zoom_1, zoom_2, zoom_3, zoom_4, zoom_5]"
   ]
  },
  {
   "cell_type": "code",
   "execution_count": null,
   "metadata": {},
   "outputs": [],
   "source": [
    "dramatically_countries=[]\n",
    "sum_con=0\n",
    "for row in world.iterrows():\n",
    "    sum_con+=1\n",
    "    country_iso_3 = row[1][3]\n",
    "#     print(country_iso_3)\n",
    "    comp1 = float(row[1][13])\n",
    "#     print(comp1)\n",
    "    comp2 = float(row[1][15])\n",
    "#     print(comp2)\n",
    "    interval1 = intervals[0]\n",
    "    interval2 = intervals[0]\n",
    "    for i in intervals:\n",
    "        if comp1 in i:\n",
    "            interval1 = i\n",
    "        if comp2 in i:\n",
    "            interval2 = i\n",
    "#     print(interval1)\n",
    "#     print(interval2)\n",
    "    if interval1 != interval2:\n",
    "        print(comp1, comp2, comp1-comp2)\n",
    "        dramatically_countries.append(country_iso_3)\n",
    "print(sum_con)\n",
    "print(\"countries that alcohol consumption changed dramatically\", dramatically_countries)\n",
    "print(len(dramatically_countries))"
   ]
  },
  {
   "cell_type": "code",
   "execution_count": null,
   "metadata": {},
   "outputs": [],
   "source": [
    "world['change'] = world.apply(lambda x: float(x.Alcohol_com1) - float(x.Alcohol_com2), axis=1)"
   ]
  },
  {
   "cell_type": "code",
   "execution_count": null,
   "metadata": {},
   "outputs": [],
   "source": [
    "world.head(10)"
   ]
  },
  {
   "cell_type": "code",
   "execution_count": null,
   "metadata": {},
   "outputs": [],
   "source": [
    "world.loc[world['change']>0.5]"
   ]
  },
  {
   "cell_type": "code",
   "execution_count": null,
   "metadata": {},
   "outputs": [],
   "source": [
    "world['change_label'] = world.apply(lambda x: 1 if float(x.change)>0.5 else 0, axis=1)"
   ]
  },
  {
   "cell_type": "code",
   "execution_count": null,
   "metadata": {},
   "outputs": [],
   "source": [
    "import matplotlib.pylab as pylab\n",
    "pylab.rcParams['figure.figsize'] = 18, 18\n",
    "fig, ax = plt.subplots(1, 1)\n",
    "ax.set_title(\"Countries that Avg Alcohol consumption changed dramatically during two periods\", fontsize=20)\n",
    "world.plot(column='change_label',\n",
    "           ax=ax,\n",
    "           legend=True,\n",
    "#            legend_kwds={'labels': \"Avg Alcohol_2015-2017 by Country\",'legend': \"horizontal\"})\n",
    "           cmap='OrRd',\n",
    "           scheme='quantiles')"
   ]
  },
  {
   "cell_type": "code",
   "execution_count": null,
   "metadata": {},
   "outputs": [],
   "source": [
    "world_changed.describe()"
   ]
  },
  {
   "cell_type": "markdown",
   "metadata": {},
   "source": [
    "Plot Regions by country"
   ]
  },
  {
   "cell_type": "code",
   "execution_count": null,
   "metadata": {},
   "outputs": [],
   "source": [
    "import matplotlib.pylab as pylab\n",
    "pylab.rcParams['figure.figsize'] = 18, 18\n",
    "fig, ax = plt.subplots(1, 1)\n",
    "ax.set_title(\"Region\", fontsize=20)\n",
    "world.plot(column='Region',\n",
    "           ax=ax,\n",
    "           legend=True)"
   ]
  },
  {
   "cell_type": "code",
   "execution_count": null,
   "metadata": {},
   "outputs": [],
   "source": [
    "world['Religion'].unique()"
   ]
  },
  {
   "cell_type": "code",
   "execution_count": null,
   "metadata": {},
   "outputs": [],
   "source": [
    "for row in world.iterrows():\n",
    "    country_religion = row[1][12]\n",
    "#     print(country_religion)\n",
    "    if isinstance(country_religion,str):\n",
    "        row[1][12] = process_text(country_religion)\n",
    "world['Religion'].unique()"
   ]
  },
  {
   "cell_type": "code",
   "execution_count": null,
   "metadata": {},
   "outputs": [],
   "source": [
    "import matplotlib.pylab as pylab\n",
    "pylab.rcParams['figure.figsize'] = 18, 18\n",
    "fig, ax = plt.subplots(1, 1)\n",
    "ax.set_title(\"Religion\", fontsize=20)\n",
    "world.plot(column='Religion',\n",
    "           ax=ax,\n",
    "           legend=True)"
   ]
  },
  {
   "cell_type": "code",
   "execution_count": null,
   "metadata": {},
   "outputs": [],
   "source": [
    "import folium\n",
    "\n",
    "# define the world map\n",
    "world_map = folium.Map()\n",
    "\n",
    "# display world map\n",
    "world_map"
   ]
  },
  {
   "cell_type": "code",
   "execution_count": null,
   "metadata": {},
   "outputs": [],
   "source": [
    "# # San Francisco latitude and longitude values\n",
    "# latitude = 37.77\n",
    "# longitude = -122.42\n",
    "\n",
    "# # Create map and display it\n",
    "# san_map = folium.Map(location=[latitude, longitude], zoom_start=12)\n",
    "\n",
    "# # Display the map of San Francisco\n",
    "# san_map"
   ]
  },
  {
   "cell_type": "code",
   "execution_count": null,
   "metadata": {},
   "outputs": [],
   "source": [
    "# Read Dataset \n",
    "cdata = pd.read_csv(\"./projectdata/Countries_finaldf.csv\", header=None, sep=',', names=['Number', 'Country', 'iso2', 'iso3', 'latitude', 'longitude', 'Region', 'Religion', 'Alcohol_per_capita_1', 'Alcohol_per_capita_1_ci', 'Alcohol_per_capita_2', 'Alcohol_per_capita_2_ci'])\n",
    "# cdata['latitude'].astype('float')\n",
    "cdata.info()\n",
    "cdata.head(10)"
   ]
  },
  {
   "cell_type": "code",
   "execution_count": null,
   "metadata": {},
   "outputs": [],
   "source": [
    "def location_to_float(value):\n",
    "#     print(value)\n",
    "    if value!='latitude' and value!='longitude':\n",
    "        return np.float(value)\n",
    "    else:\n",
    "        return np.nan\n",
    "cdata['latitude'] = cdata['latitude'].apply(location_to_float)\n",
    "cdata['longitude'] = cdata['longitude'].apply(location_to_float)\n",
    "# cdata['Alcohol_per_capita_1'] = cdata['Alcohol_per_capita_1'].apply(location_to_float)\n",
    "cdata.info()\n",
    "print(cdata.shape)\n",
    "cdata.head()"
   ]
  },
  {
   "cell_type": "code",
   "execution_count": null,
   "metadata": {},
   "outputs": [],
   "source": [
    "cdata = cdata.dropna(axis=0, how='any')\n",
    "cdata.to_csv(\"./projectdata/Countries_dropped.csv\", header=None, index=False, sep=',')\n",
    "# cdata.isnull().all(axis=0)\n",
    "cdata.shape"
   ]
  },
  {
   "cell_type": "code",
   "execution_count": null,
   "metadata": {},
   "outputs": [],
   "source": [
    "# cdata['latitude'].value_counts()\n",
    "print(np.any(cdata.isnull())==True)"
   ]
  },
  {
   "cell_type": "code",
   "execution_count": null,
   "metadata": {},
   "outputs": [],
   "source": [
    "# Instantiate a feature group for the incidents in the dataframe\n",
    "incidents = folium.map.FeatureGroup()\n",
    "# Loop through the consumption data and add each to the incidents feature group\n",
    "\n",
    "for lat, lng, value in zip(cdata.latitude, cdata.longitude, cdata.Alcohol_per_capita_1):\n",
    "    incidents.add_child(\n",
    "        folium.CircleMarker(\n",
    "            [lat, lng],\n",
    "            radius=7, # define how big you want the circle markers to be\n",
    "            color='yellow',\n",
    "            fill=True,\n",
    "            fill_color='blue',\n",
    "            fill_opacity=0.4\n",
    "        )\n",
    "    )"
   ]
  },
  {
   "cell_type": "markdown",
   "metadata": {},
   "source": [
    "# Visualize countries' location"
   ]
  },
  {
   "cell_type": "code",
   "execution_count": null,
   "metadata": {},
   "outputs": [],
   "source": [
    "# Add incidents to map\n",
    "# world_map = folium.Map(location=[latitude, longitude], zoom_start=12)\n",
    "world_map = folium.Map(zoom_start=12)\n",
    "world_map.add_child(incidents)"
   ]
  },
  {
   "cell_type": "markdown",
   "metadata": {},
   "source": [
    "# Visualize Regional countries"
   ]
  },
  {
   "cell_type": "code",
   "execution_count": null,
   "metadata": {},
   "outputs": [],
   "source": [
    "from folium import plugins\n",
    "\n",
    "# let's start again with a clean copy of the map of San Francisco\n",
    "world_map = folium.Map(zoom_start = 12)\n",
    "\n",
    "# # instantiate a mark cluster object for the incidents in the dataframe\n",
    "# incidents = plugins.MarkerCluster().add_to(world_map)\n",
    "\n",
    "# loop through the dataframe and add each data point to the mark cluster\n",
    "for lat, lng, consumption in zip(cdata.latitude, cdata.longitude, cdata.Alcohol_per_capita_1):\n",
    "    folium.Marker(\n",
    "        location=[lat, lng],\n",
    "        popup=consumption,\n",
    "        icon=None,\n",
    "        value=consumption,\n",
    "    ).add_to(incidents)\n",
    "\n",
    "# add incidents to map\n",
    "world_map.add_child(incidents)"
   ]
  },
  {
   "cell_type": "code",
   "execution_count": null,
   "metadata": {},
   "outputs": [],
   "source": []
  },
  {
   "cell_type": "markdown",
   "metadata": {},
   "source": [
    "# Plot Age_limits with consumption"
   ]
  },
  {
   "cell_type": "code",
   "execution_count": null,
   "metadata": {},
   "outputs": [],
   "source": [
    "df_test = df[2:12]\n",
    "plt.bar(df_test['Country'], df_test['2015-2017']) # plot\n",
    "plt.xticks(rotation=30)"
   ]
  },
  {
   "cell_type": "code",
   "execution_count": null,
   "metadata": {},
   "outputs": [],
   "source": [
    "total_width, n = 0.8, 2\n",
    "width = total_width / n\n",
    " \n",
    "plt.bar(df_test['Country'], df_test['2015-2017'], width=width, label='consumption',fc = 'y')\n",
    "for item in df_test['Country']:\n",
    "    item = item + width\n",
    "plt.bar(x, df_test['Age limits Beer'], width=width, label='Age_limits',tick_label = df_test['Country'],fc = 'r')\n",
    "plt.xticks(rotation=30)\n",
    "plt.legend()\n",
    "plt.show()"
   ]
  },
  {
   "cell_type": "code",
   "execution_count": null,
   "metadata": {},
   "outputs": [],
   "source": []
  },
  {
   "cell_type": "code",
   "execution_count": null,
   "metadata": {},
   "outputs": [],
   "source": []
  }
 ],
 "metadata": {
  "kernelspec": {
   "display_name": "Python 3",
   "language": "python",
   "name": "python3"
  },
  "language_info": {
   "codemirror_mode": {
    "name": "ipython",
    "version": 3
   },
   "file_extension": ".py",
   "mimetype": "text/x-python",
   "name": "python",
   "nbconvert_exporter": "python",
   "pygments_lexer": "ipython3",
   "version": "3.7.4"
  }
 },
 "nbformat": 4,
 "nbformat_minor": 4
}
