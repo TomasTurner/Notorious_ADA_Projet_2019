{
 "cells": [
  {
   "cell_type": "markdown",
   "metadata": {},
   "source": [
    "# 1.Divide Region\n",
    "\n"
   ]
  },
  {
   "cell_type": "code",
   "execution_count": 1,
   "metadata": {},
   "outputs": [],
   "source": [
    "# import libraries\n",
    "import pandas as pd\n",
    "import numpy as np\n",
    "import csv\n",
    "import matplotlib.pyplot as plt"
   ]
  },
  {
   "cell_type": "code",
   "execution_count": 2,
   "metadata": {},
   "outputs": [
    {
     "name": "stdout",
     "output_type": "stream",
     "text": [
      "\u001b[34mCountry_religion\u001b[m\u001b[m/           \u001b[34mWHO_policy_timeline_edited\u001b[m\u001b[m/\r\n",
      "HFA_426_EN.csv              \u001b[34mdataprocessed\u001b[m\u001b[m/\r\n",
      "Policies.ipynb              policy_timeline.ipynb\r\n",
      "Policies_tristan.ipynb      \u001b[34mprojectdata\u001b[m\u001b[m/\r\n",
      "\u001b[31mREADME.md\u001b[m\u001b[m*                  \u001b[34mreport\u001b[m\u001b[m/\r\n"
     ]
    }
   ],
   "source": [
    "ls"
   ]
  },
  {
   "cell_type": "code",
   "execution_count": 12,
   "metadata": {},
   "outputs": [],
   "source": [
    "#file_path_definitions\n",
    "Age_limits_CSV_FILE_PATH = 'projectdata/Age_limits.csv'\n",
    "Public_use_CSV_FILE_PATH = 'projectdata/Public_use.csv'\n",
    "Liscence_retail_CSV_FILE_PATH = 'projectdata/Licence_retail.csv'  # bool influence the retail sales first\n",
    "Liscence_production_CSV_FILE_PATH = 'projectdata/Licence_production.csv'\n",
    "Tax_CSV_FILE_PATH = 'projectdata/Tax.csv'   # bool\n",
    "Community_actions_CSV_FILE_PATH = 'projectdata/Community_action.csv'  #  bool\n",
    "Health_warning_CSV_FILE_PATH = 'projectdata/Health_warning.csv'\n",
    "Comsumption_CSV_FILE_PATH = 'projectdata/Consumption.csv'\n",
    "Countries_list_PATH = 'dataprocessed/Country_list_final.csv'"
   ]
  },
  {
   "cell_type": "code",
   "execution_count": 13,
   "metadata": {},
   "outputs": [
    {
     "data": {
      "application/javascript": [
       "IPython.OutputArea.auto_scroll_threshold = 9999;\n"
      ],
      "text/plain": [
       "<IPython.core.display.Javascript object>"
      ]
     },
     "metadata": {},
     "output_type": "display_data"
    }
   ],
   "source": [
    "%%javascript\n",
    "IPython.OutputArea.auto_scroll_threshold = 9999;"
   ]
  },
  {
   "cell_type": "markdown",
   "metadata": {},
   "source": [
    "1. We have divided all the countries in the database into eight parts according to the United Nations geographical division criteria.\n",
    "2. This is because we take into account that countries in the same region have similar political conditions, living habits and cultural background, such as countries in the EU, while countries in different regions are quite different in these aspects.\n",
    "3. Therefore, our subsequent analysis will be based on the results of the following country segmentation."
   ]
  },
  {
   "cell_type": "code",
   "execution_count": 6,
   "metadata": {},
   "outputs": [],
   "source": [
    "def process_text(origin_text):\n",
    "    new_text = origin_text.capitalize()\n",
    "    new_text = ''.join(new_text.split('-'))\n",
    "    new_text = ''.join(new_text.split(' '))\n",
    "    return new_text"
   ]
  },
  {
   "cell_type": "code",
   "execution_count": 7,
   "metadata": {},
   "outputs": [],
   "source": [
    "def process_country_name(Filename, newFile_path, column):\n",
    "    df = pd.read_csv(Filename, header=None, sep=',')\n",
    "    print(df.shape)\n",
    "    for row in df.iterrows():\n",
    "        country_name = row[1][column]\n",
    "        row[1][column]=process_text(country_name)\n",
    "    df.to_csv(newFile_path, header=None, index=False, sep=',')"
   ]
  },
  {
   "cell_type": "code",
   "execution_count": 8,
   "metadata": {},
   "outputs": [],
   "source": [
    "def dict_country_code(inputcountry):\n",
    "    with open(Countries_list_PATH,'r',encoding=\"utf-8\") as f:\n",
    "        reader = csv.reader(f)\n",
    "        fieldnames = next(reader) #get first row，as key for the dictionary get from generator next\n",
    "#         print(\"fieldnames\", fieldnames)\n",
    "        csv_reader = csv.DictReader(f,fieldnames=fieldnames) #self._fieldnames = fieldnames   # list of keys for the dict 以list的形式存放键名\n",
    "        for row in csv_reader:\n",
    "#             print(row)\n",
    "            d = {}\n",
    "            for k,v in row.items():\n",
    "                d[k]=v\n",
    "            if d['Country']==inputcountry:\n",
    "                outputcode = d['Code']\n",
    "#                 print(\"Succeed! Replaced with\", outputcode)\n",
    "                return(outputcode)\n",
    "#         print(\"Error! Cannot find country\", inputcountry)\n",
    "        return False"
   ]
  },
  {
   "cell_type": "code",
   "execution_count": 9,
   "metadata": {},
   "outputs": [],
   "source": [
    "def dict_country_region(inputcountry):\n",
    "    with open(Countries_list_PATH,'r',encoding=\"utf-8\") as f:\n",
    "        reader = csv.reader(f)\n",
    "        fieldnames = next(reader) #get first row，as key for the dictionary get from generator next\n",
    "#         print(\"fieldnames\", fieldnames)\n",
    "        csv_reader = csv.DictReader(f,fieldnames=fieldnames) #self._fieldnames = fieldnames   # list of keys for the dict 以list的形式存放键名\n",
    "        for row in csv_reader:\n",
    "#             print(row)\n",
    "            d = {}\n",
    "            for k,v in row.items():\n",
    "                d[k]=v\n",
    "            if d['Country']==inputcountry:\n",
    "                outputregion = d['Region']\n",
    "#                 print(\"Succeed! Replaced with\", outputcode)\n",
    "                return(outputregion)\n",
    "#         print(\"Error! Cannot find country\", inputcountry)\n",
    "        return False"
   ]
  },
  {
   "cell_type": "code",
   "execution_count": 14,
   "metadata": {},
   "outputs": [],
   "source": [
    "def dict_country_religion(inputcountry):\n",
    "    with open(Countries_list_PATH,'r',encoding=\"utf-8\") as f:\n",
    "        reader = csv.reader(f)\n",
    "        fieldnames = next(reader) #get first row，as key for the dictionary get from generator next\n",
    "#         print(\"fieldnames\", fieldnames)\n",
    "        csv_reader = csv.DictReader(f,fieldnames=fieldnames) #self._fieldnames = fieldnames   # list of keys for the dict 以list的形式存放键名\n",
    "        for row in csv_reader:\n",
    "#             print(row)\n",
    "            d = {}\n",
    "            for k,v in row.items():\n",
    "                d[k]=v\n",
    "            if d['Country']==inputcountry:\n",
    "                outputreligion = d['Religion']\n",
    "#                 print(\"Succeed! Replaced with\", outputcode)\n",
    "                return(outputreligion)\n",
    "#         print(\"Error! Cannot find country\", inputcountry)\n",
    "        return False"
   ]
  },
  {
   "cell_type": "code",
   "execution_count": 15,
   "metadata": {},
   "outputs": [
    {
     "name": "stdout",
     "output_type": "stream",
     "text": [
      "Western European and Others Group\n"
     ]
    }
   ],
   "source": [
    "# test function dict_country \n",
    "print(dict_country_region('Switzerland'))"
   ]
  },
  {
   "cell_type": "code",
   "execution_count": 16,
   "metadata": {
    "scrolled": true
   },
   "outputs": [],
   "source": [
    "# # preprocess every file into country code\n",
    "# def add_country_code(Filename, newFile_path):\n",
    "#     df = pd.read_csv(Filename, header=None, sep=',')\n",
    "#     df['CountryCode']='none'\n",
    "#     # print(df.columns)\n",
    "#     print(df.shape)\n",
    "#     success_count = 0\n",
    "#     for row in df.iterrows():\n",
    "#         country_name = row[1][0]\n",
    "#     #     print(\"Country name:\", country_name)\n",
    "#         outputcode = dict_country_code(country_name)\n",
    "#         if(outputcode!=False):\n",
    "#             row[1]['CountryCode']=outputcode\n",
    "#             success_count = success_count + 1\n",
    "#     print(\"Successfully Converted:\", success_count)\n",
    "#     # print(df.head())\n",
    "#     df.to_csv(newFile_path,index=False,sep=',')"
   ]
  },
  {
   "cell_type": "code",
   "execution_count": 17,
   "metadata": {},
   "outputs": [],
   "source": [
    "# country_to_code(Age_limits_CSV_FILE_PATH, \"./dataprocessed/Age_limits_processed.csv\")\n",
    "# country_to_code(Public_use_CSV_FILE_PATH, \"./dataprocessed/Public_use_processed.csv\")"
   ]
  },
  {
   "cell_type": "code",
   "execution_count": 18,
   "metadata": {},
   "outputs": [],
   "source": [
    "# preprocess add region and religion to each row\n",
    "def add_code_region_religion(Filename, newFile_path):\n",
    "    df = pd.read_csv(Filename, header=None, sep=',')\n",
    "    df['CountryCode']='none'\n",
    "    df['Region']='none'\n",
    "    df['Religion']='none'\n",
    "    print(df.shape)\n",
    "    success_count = 0\n",
    "    for row in df.iterrows():\n",
    "        country_name = row[1][0]\n",
    "        country_name = process_text(country_name)\n",
    "        outputcode = dict_country_code(country_name)\n",
    "        outputregion = dict_country_region(country_name)\n",
    "        outputreligion = dict_country_religion(country_name)\n",
    "        if outputregion!=False and outputreligion!=False:\n",
    "            row[1][0]=country_name\n",
    "            row[1]['CountryCode']=outputcode\n",
    "            row[1]['Region']=outputregion\n",
    "            row[1]['Religion']=outputreligion\n",
    "            success_count = success_count + 1\n",
    "    print(\"Successfully Converted:\", success_count)\n",
    "    df.to_csv(newFile_path,index=False,sep=',')"
   ]
  },
  {
   "cell_type": "code",
   "execution_count": 19,
   "metadata": {},
   "outputs": [
    {
     "name": "stdout",
     "output_type": "stream",
     "text": [
      "(177, 5)\n"
     ]
    }
   ],
   "source": [
    "process_country_name(Countries_list_PATH, \"./dataprocessed/Country_list_final.csv\", 2)"
   ]
  },
  {
   "cell_type": "code",
   "execution_count": 20,
   "metadata": {},
   "outputs": [
    {
     "name": "stdout",
     "output_type": "stream",
     "text": [
      "(196, 8)\n"
     ]
    }
   ],
   "source": [
    "process_country_name(Age_limits_CSV_FILE_PATH, \"./dataprocessed/Age_limits_processed.csv\", 0)"
   ]
  },
  {
   "cell_type": "code",
   "execution_count": 21,
   "metadata": {},
   "outputs": [
    {
     "name": "stdout",
     "output_type": "stream",
     "text": [
      "(196, 11)\n",
      "Successfully Converted: 162\n"
     ]
    }
   ],
   "source": [
    "add_code_region_religion(\"./dataprocessed/Age_limits_processed.csv\", \"./dataprocessed/Age_limits_processed.csv\")"
   ]
  },
  {
   "cell_type": "code",
   "execution_count": 22,
   "metadata": {},
   "outputs": [],
   "source": [
    "def text_to_bool():\n",
    "    df = pd.read_csv(Filename, header=None, sep=',')"
   ]
  },
  {
   "cell_type": "code",
   "execution_count": 23,
   "metadata": {},
   "outputs": [
    {
     "name": "stdout",
     "output_type": "stream",
     "text": [
      "(196, 11)\n",
      "Successfully Converted: 162\n"
     ]
    }
   ],
   "source": [
    "add_code_region_religion(Age_limits_CSV_FILE_PATH, \"./dataprocessed/Age_limits_processed.csv\")"
   ]
  },
  {
   "cell_type": "markdown",
   "metadata": {},
   "source": [
    "# 2. DataSets for Specific year 2016"
   ]
  },
  {
   "cell_type": "code",
   "execution_count": 175,
   "metadata": {},
   "outputs": [],
   "source": [
    "from sklearn.preprocessing import MinMaxScaler\n",
    "\n",
    "'''\n",
    "use this only when column name is split between the 2 forst rows\n",
    "merges the two first rows of the csv table into new column name\n",
    "'''\n",
    "def merge_col_names(input_path, output_path, row = [0,1]): # column name are in row 1 and 2\n",
    "    df = pd.read_csv(input_path, header=None, sep=',')\n",
    "    new_col_names=[]\n",
    "    for column_name, _ in df.iteritems():\n",
    "        # checks if the names are different\n",
    "        if not df.loc[row[0]][column_name] == df.loc[row[1]][column_name]:\n",
    "            new_col_names.append(df.loc[row[0]][column_name] + ', ' + df.loc[row[1]][column_name])\n",
    "        else:\n",
    "            new_col_names.append(df.loc[row[0]][column_name])\n",
    "    df.columns = new_col_names\n",
    "    print(new_col_names)\n",
    "    df=df.drop(labels=0, axis='rows')\n",
    "    df=df.drop(labels=1, axis='rows')\n",
    "    df.to_csv(output_path, sep=',', header=True, index=False, mode='w')"
   ]
  },
  {
   "cell_type": "code",
   "execution_count": 141,
   "metadata": {},
   "outputs": [
    {
     "name": "stdout",
     "output_type": "stream",
     "text": [
      "['Country', 'Year', 'Age limits off-premise sales,  Beer', 'Age limits off-premise sales,  Wine', 'Age limits off-premise sales,  Spirits', 'Age limits on-premise service,  Beer', 'Age limits on-premise service,  Wine', 'Age limits on-premise service,  Spirits']\n",
      "List of unique values in this data frame:  ['Total ban', '18', 'None', 'Subnational', 'No data', '16', 'subnational', '17', '21', '25', '20', '15', 'total ban', '19', '13', '14']\n",
      "Shape before removing non-numeric values (194, 8)\n",
      "Shape after removing non-numeric values (170, 8)\n"
     ]
    },
    {
     "data": {
      "text/html": [
       "<div>\n",
       "<style scoped>\n",
       "    .dataframe tbody tr th:only-of-type {\n",
       "        vertical-align: middle;\n",
       "    }\n",
       "\n",
       "    .dataframe tbody tr th {\n",
       "        vertical-align: top;\n",
       "    }\n",
       "\n",
       "    .dataframe thead th {\n",
       "        text-align: right;\n",
       "    }\n",
       "</style>\n",
       "<table border=\"1\" class=\"dataframe\">\n",
       "  <thead>\n",
       "    <tr style=\"text-align: right;\">\n",
       "      <th></th>\n",
       "      <th>Country</th>\n",
       "      <th>Year</th>\n",
       "      <th>Age limits off-premise sales,  Beer</th>\n",
       "      <th>Age limits off-premise sales,  Wine</th>\n",
       "      <th>Age limits off-premise sales,  Spirits</th>\n",
       "      <th>Age limits on-premise service,  Beer</th>\n",
       "      <th>Age limits on-premise service,  Wine</th>\n",
       "      <th>Age limits on-premise service,  Spirits</th>\n",
       "    </tr>\n",
       "  </thead>\n",
       "  <tbody>\n",
       "    <tr>\n",
       "      <th>0</th>\n",
       "      <td>Afghanistan</td>\n",
       "      <td>2016</td>\n",
       "      <td>1.00</td>\n",
       "      <td>1.00</td>\n",
       "      <td>1.00</td>\n",
       "      <td>1.00</td>\n",
       "      <td>1.00</td>\n",
       "      <td>1.00</td>\n",
       "    </tr>\n",
       "    <tr>\n",
       "      <th>1</th>\n",
       "      <td>Albania</td>\n",
       "      <td>2016</td>\n",
       "      <td>0.36</td>\n",
       "      <td>0.36</td>\n",
       "      <td>0.36</td>\n",
       "      <td>0.36</td>\n",
       "      <td>0.36</td>\n",
       "      <td>0.36</td>\n",
       "    </tr>\n",
       "    <tr>\n",
       "      <th>2</th>\n",
       "      <td>Algeria</td>\n",
       "      <td>2016</td>\n",
       "      <td>0.36</td>\n",
       "      <td>0.36</td>\n",
       "      <td>0.36</td>\n",
       "      <td>0.36</td>\n",
       "      <td>0.36</td>\n",
       "      <td>0.36</td>\n",
       "    </tr>\n",
       "    <tr>\n",
       "      <th>3</th>\n",
       "      <td>Andorra</td>\n",
       "      <td>2016</td>\n",
       "      <td>0.36</td>\n",
       "      <td>0.36</td>\n",
       "      <td>0.36</td>\n",
       "      <td>0.36</td>\n",
       "      <td>0.36</td>\n",
       "      <td>0.36</td>\n",
       "    </tr>\n",
       "    <tr>\n",
       "      <th>4</th>\n",
       "      <td>Angola</td>\n",
       "      <td>2016</td>\n",
       "      <td>0.36</td>\n",
       "      <td>0.36</td>\n",
       "      <td>0.36</td>\n",
       "      <td>0.36</td>\n",
       "      <td>0.36</td>\n",
       "      <td>0.36</td>\n",
       "    </tr>\n",
       "  </tbody>\n",
       "</table>\n",
       "</div>"
      ],
      "text/plain": [
       "       Country  Year  Age limits off-premise sales,  Beer  \\\n",
       "0  Afghanistan  2016                                 1.00   \n",
       "1      Albania  2016                                 0.36   \n",
       "2      Algeria  2016                                 0.36   \n",
       "3      Andorra  2016                                 0.36   \n",
       "4       Angola  2016                                 0.36   \n",
       "\n",
       "   Age limits off-premise sales,  Wine  \\\n",
       "0                                 1.00   \n",
       "1                                 0.36   \n",
       "2                                 0.36   \n",
       "3                                 0.36   \n",
       "4                                 0.36   \n",
       "\n",
       "   Age limits off-premise sales,  Spirits  \\\n",
       "0                                    1.00   \n",
       "1                                    0.36   \n",
       "2                                    0.36   \n",
       "3                                    0.36   \n",
       "4                                    0.36   \n",
       "\n",
       "   Age limits on-premise service,  Beer  Age limits on-premise service,  Wine  \\\n",
       "0                                  1.00                                  1.00   \n",
       "1                                  0.36                                  0.36   \n",
       "2                                  0.36                                  0.36   \n",
       "3                                  0.36                                  0.36   \n",
       "4                                  0.36                                  0.36   \n",
       "\n",
       "   Age limits on-premise service,  Spirits  \n",
       "0                                     1.00  \n",
       "1                                     0.36  \n",
       "2                                     0.36  \n",
       "3                                     0.36  \n",
       "4                                     0.36  "
      ]
     },
     "execution_count": 141,
     "metadata": {},
     "output_type": "execute_result"
    }
   ],
   "source": [
    "## PREPROCESSING AGE LIMITS\n",
    "\n",
    "## output\n",
    "# dataframe 1: age_limit, contains the whole data\n",
    "# dataframe 2: age_limit_num, after dropping missing data\n",
    "\n",
    "## list of heuristics\n",
    "HEURISTIC_TOTAL_BAN = 50\n",
    "\n",
    "# merges column name\n",
    "merge_col_names(Age_limits_CSV_FILE_PATH, 'dataprocessed/age_limits_processed')\n",
    "\n",
    "# reads\n",
    "age_limit = pd.read_csv('dataprocessed/age_limits_processed')\n",
    "\n",
    "# creates short-cut for column with data specific to age limit\n",
    "columns_data = list(age_limit.columns)[2:] # without county and year\n",
    "\n",
    "# lists unique values in the data frame\n",
    "val1 = pd.Series()\n",
    "for column in age_limit.columns[2:]:\n",
    "    val2 = pd.Series(age_limit[column].unique())\n",
    "    val1 = val1.append(val2)\n",
    "value_span = list(val1.unique())\n",
    "print('List of unique values in this data frame: ', value_span)\n",
    "\n",
    "# sanitizes age_limit\n",
    "age_limit = age_limit.replace({'total ban': 'Total ban', \n",
    "                               'subnational': 'Subnational'})\n",
    "print('Shape before removing non-numeric values', age_limit.shape)\n",
    "\n",
    "# puts all values to numbers or NaN\n",
    "age_limit_num = age_limit.replace({'Total ban': HEURISTIC_TOTAL_BAN,\n",
    "                                   'None':0,\n",
    "                                   'Subnational': np.nan,\n",
    "                                   'No data': np.nan})\n",
    "\n",
    "# drops rows if it contains NaN\n",
    "age_limit_num = age_limit_num.dropna(how='any')\n",
    "print('Shape after removing non-numeric values', age_limit_num.shape)\n",
    "age_limit_num = age_limit_num.reset_index(drop=True)\n",
    "\n",
    "# sets the dataframe specific data to float\n",
    "age_limit_num[columns_data] = age_limit_num[columns_data].astype(dtype=float)\n",
    "\n",
    "# scales the dataframe specific data  between 0 and 1\n",
    "mm_scaler = MinMaxScaler(feature_range=(0,1))\n",
    "df_mm = mm_scaler.fit_transform(age_limit_num[columns_data])\n",
    "age_limit_num[columns_data] = pd.DataFrame(df_mm)\n",
    "\n",
    "# to csv\n",
    "age_limit_num.to_csv('dataprocessed/Age_limits_processed.csv', \n",
    "                     sep=',', \n",
    "                     header=True,\n",
    "                     index=False,\n",
    "                     mode='w')\n",
    "\n",
    "age_limit_num.head()"
   ]
  },
  {
   "cell_type": "markdown",
   "metadata": {},
   "source": [
    "## 2.1 DataSets Overview"
   ]
  },
  {
   "cell_type": "markdown",
   "metadata": {},
   "source": [
    "**DataSet 1. Pure alcohol consumption, litres per capita, age 15+**\n",
    "\n",
    "* Indicator full name: Pure alcohol consumption, litres per capita, age 15+\n",
    "\n",
    "* Unit: litres per capita\n",
    "\n",
    "* Dimensions:\n",
    "\n",
    "* Country (COUNTRY) \n",
    "\n",
    "* Supranational group of countries (COUNTRY_GRP)\n",
    "\n",
    "* Sex (SEX)\n",
    "\n",
    "* Year of measure (YEAR)\n",
    "\n",
    "* Years data is available: 1970—2015"
   ]
  },
  {
   "cell_type": "code",
   "execution_count": null,
   "metadata": {},
   "outputs": [],
   "source": [
    "from IPython.core.display import display, HTML\n",
    "display(HTML('<iframe frameborder=\"0\" class=\"whoWidget\" onload=\"(function (){if(!document.getElementById(\\'ifr\\')){var s=document.createElement(\\'script\\');s.type=\\'text/javascript\\';s.id=\\'ifr\\';s.src=\\'https://gateway.euro.who.int/Scripts/libs/iframeResizer/iframeResizer.min.js\\';document.getElementsByTagName(\\'head\\')[0].appendChild(s);}})();\" src=\"https://gateway.euro.who.int/en/indicators/visualization-embed/?indId=18314&visId=19443\" style=\"width: 100%;\"></iframe>'))"
   ]
  },
  {
   "cell_type": "markdown",
   "metadata": {},
   "source": [
    "**DataSet 2.Age limits - Alcohol service/sales by country**\n",
    "\n",
    "* Data type: Count\n",
    "* Topic: Risk factors\n",
    "* Rationale: One first needs to be aware of a country's laws and policies regarding alcohol before one can establish whether these influence the level and patterns of alcohol consumption in the population. Thus, the legal status of alcohol production, distribution and consumption is an important indicator.\n",
    "* Definition:The legal age limit for on-premise service of alcoholic beverages is defined as the age at which a person can be served alcoholic beverages on premises in a country, i.e. alcoholic beverages cannot be served to a person under this age. The legal age limit for off-premise sales of alcoholic beverages is defined as the age at which a person can be sold alcoholic beverages off premises in a country, i.e. alcoholic beverages cannot be sold to a person under this age.\n",
    "* Disaggregation: Alcoholic beverage type\n",
    "* Method of estimation: The national authorities of a given country respond to the Global Survey on Alcohol and Health.\n",
    "* Expected frequency of data dissemination:Periodic\n",
    "* Expected frequency of data collection:Periodic\n",
    "\n",
    "Short name: Age limits on-/off-premise sales\n",
    "\n",
    "Short name:Age limits on-/off-premise service\n",
    "\n",
    "Total countries:194"
   ]
  },
  {
   "cell_type": "code",
   "execution_count": null,
   "metadata": {},
   "outputs": [],
   "source": [
    "from IPython.core.display import display, HTML\n",
    "display(HTML('<iframe id=\\'rightframe\\' name=\\'leftiframe\\' width=\"70%\" src=\\'http://apps.who.int/gho/data/node.main.A1144\\'></iframe><br>'))"
   ]
  },
  {
   "cell_type": "markdown",
   "metadata": {},
   "source": [
    "**DataSet 3.License requirement for alcohol production and retail sales**\n",
    "\n",
    "* Short name: Licensing\n",
    "* Data type: Categorical\n",
    "* Topic: Risk factors\n",
    "* Rationale: One first needs to be aware of a country's laws and policies regarding alcohol before one can establish whether these influence the level and patterns of alcohol consumption in the population. Thus, the legal status of alcohol production, distribution and consumption is an important indicator.\n",
    "* Definition: Licensing is defined as the partial government control of production, and sale, wholesale and distribution of alcoholic beverages which requires licensing, as well as of import and export.\n",
    "* Disaggregation: Alcoholic beverage type\n",
    "* Method of estimation: The national authorities of a given country respond to the Global Survey on Alcohol and Health.\n",
    "* Expected frequency of data dissemination:Periodic\n",
    "* Expected frequency of data collection:Periodic\n",
    "\n",
    "Retail sales by country"
   ]
  },
  {
   "cell_type": "code",
   "execution_count": null,
   "metadata": {},
   "outputs": [],
   "source": [
    "display(HTML('<iframe id=\\'rightframe\\' name=\\'leftiframe\\' width=\"70%\" src=\\'http://apps.who.int/gho/data/node.main.A1179\\'></iframe><br>'))"
   ]
  },
  {
   "cell_type": "markdown",
   "metadata": {},
   "source": [
    "Production by country"
   ]
  },
  {
   "cell_type": "code",
   "execution_count": null,
   "metadata": {},
   "outputs": [],
   "source": [
    "display(HTML('<iframe id=\\'rightframe\\' name=\\'leftiframe\\' width=\"70%\" src=\\'http://apps.who.int/gho/data/node.main.A1178\\'></iframe><br>'))"
   ]
  },
  {
   "cell_type": "markdown",
   "metadata": {},
   "source": [
    "## 2.1 Age-limit v.s. Pure alcohol consumption"
   ]
  },
  {
   "cell_type": "code",
   "execution_count": null,
   "metadata": {},
   "outputs": [],
   "source": [
    "df = pd.read_csv(\"./dataprocessed/Consumption_processed.csv\", names=['Country', '2015-2017', '2009-2011', 'Age limits Beer'])\n",
    "print(df.head(10))\n",
    "print(df.columns)"
   ]
  },
  {
   "cell_type": "code",
   "execution_count": null,
   "metadata": {},
   "outputs": [],
   "source": [
    "df.dtype"
   ]
  },
  {
   "cell_type": "code",
   "execution_count": null,
   "metadata": {},
   "outputs": [],
   "source": [
    "df_test = df[2:12]\n",
    "plt.bar(df_test['Country'], df_test['2015-2017']) # plot\n",
    "plt.xticks(rotation=30)"
   ]
  },
  {
   "cell_type": "code",
   "execution_count": null,
   "metadata": {},
   "outputs": [],
   "source": [
    "# name_list = ['Monday','Tuesday','Friday','Sunday']\n",
    "# num_list = [1.5,0.6,7.8,6]\n",
    "# num_list1 = [1,2,3,1]\n",
    "# x =list(range(len(num_list)))\n",
    "total_width, n = 0.8, 2\n",
    "width = total_width / n\n",
    " \n",
    "plt.bar(df_test['Country'], df_test['2015-2017'], width=width, label='consumption',fc = 'y')\n",
    "for item in df_test['Country']:\n",
    "    item = item + width\n",
    "plt.bar(x, df_test['Age limits Beer'], width=width, label='Age_limits',tick_label = df_test['Country'],fc = 'r')\n",
    "plt.xticks(rotation=30)\n",
    "plt.legend()\n",
    "plt.show()"
   ]
  },
  {
   "cell_type": "code",
   "execution_count": null,
   "metadata": {},
   "outputs": [],
   "source": []
  }
 ],
 "metadata": {
  "kernelspec": {
   "display_name": "Python 3",
   "language": "python",
   "name": "python3"
  },
  "language_info": {
   "codemirror_mode": {
    "name": "ipython",
    "version": 3
   },
   "file_extension": ".py",
   "mimetype": "text/x-python",
   "name": "python",
   "nbconvert_exporter": "python",
   "pygments_lexer": "ipython3",
   "version": "3.7.1"
  }
 },
 "nbformat": 4,
 "nbformat_minor": 2
}
